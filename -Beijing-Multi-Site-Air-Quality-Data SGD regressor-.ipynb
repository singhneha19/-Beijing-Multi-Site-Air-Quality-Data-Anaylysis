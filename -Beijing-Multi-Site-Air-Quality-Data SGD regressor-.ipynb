{
 "cells": [
  {
   "cell_type": "code",
   "execution_count": 1,
   "metadata": {},
   "outputs": [],
   "source": [
    "import csv\n",
    "import pandas as pd\n",
    "import matplotlib.pyplot as plt\n",
    "import seaborn as sns"
   ]
  },
  {
   "cell_type": "markdown",
   "metadata": {},
   "source": [
    "Use the merged data frame from Assignment 1 for this assignment.\n",
    "This Assignment focuses on data preprocessing and model building. \n",
    "Continue with the datasets loaded in Assignment 1 (or reload with same steps and create merged data frame). \n",
    "You will be predicting PM2.5 levels using a machine learning model in this assignment."
   ]
  },
  {
   "cell_type": "code",
   "execution_count": 2,
   "metadata": {},
   "outputs": [],
   "source": [
    "df_airq =pd.read_csv(r'c:\\Users\\nitin\\OneDrive\\Documents\\merged_csv.csv')"
   ]
  },
  {
   "cell_type": "code",
   "execution_count": 3,
   "metadata": {},
   "outputs": [
    {
     "data": {
      "text/html": [
       "<div>\n",
       "<style scoped>\n",
       "    .dataframe tbody tr th:only-of-type {\n",
       "        vertical-align: middle;\n",
       "    }\n",
       "\n",
       "    .dataframe tbody tr th {\n",
       "        vertical-align: top;\n",
       "    }\n",
       "\n",
       "    .dataframe thead th {\n",
       "        text-align: right;\n",
       "    }\n",
       "</style>\n",
       "<table border=\"1\" class=\"dataframe\">\n",
       "  <thead>\n",
       "    <tr style=\"text-align: right;\">\n",
       "      <th></th>\n",
       "      <th>No</th>\n",
       "      <th>year</th>\n",
       "      <th>month</th>\n",
       "      <th>day</th>\n",
       "      <th>hour</th>\n",
       "      <th>PM2.5</th>\n",
       "      <th>PM10</th>\n",
       "      <th>SO2</th>\n",
       "      <th>NO2</th>\n",
       "      <th>CO</th>\n",
       "      <th>O3</th>\n",
       "      <th>TEMP</th>\n",
       "      <th>PRES</th>\n",
       "      <th>DEWP</th>\n",
       "      <th>RAIN</th>\n",
       "      <th>wd</th>\n",
       "      <th>WSPM</th>\n",
       "      <th>station</th>\n",
       "    </tr>\n",
       "  </thead>\n",
       "  <tbody>\n",
       "    <tr>\n",
       "      <th>0</th>\n",
       "      <td>1</td>\n",
       "      <td>2013</td>\n",
       "      <td>3</td>\n",
       "      <td>1</td>\n",
       "      <td>0</td>\n",
       "      <td>4.0</td>\n",
       "      <td>4.0</td>\n",
       "      <td>4.0</td>\n",
       "      <td>7.0</td>\n",
       "      <td>300.0</td>\n",
       "      <td>77.0</td>\n",
       "      <td>-0.7</td>\n",
       "      <td>1023.0</td>\n",
       "      <td>-18.8</td>\n",
       "      <td>0.0</td>\n",
       "      <td>NNW</td>\n",
       "      <td>4.4</td>\n",
       "      <td>Aotizhongxin</td>\n",
       "    </tr>\n",
       "    <tr>\n",
       "      <th>1</th>\n",
       "      <td>2</td>\n",
       "      <td>2013</td>\n",
       "      <td>3</td>\n",
       "      <td>1</td>\n",
       "      <td>1</td>\n",
       "      <td>8.0</td>\n",
       "      <td>8.0</td>\n",
       "      <td>4.0</td>\n",
       "      <td>7.0</td>\n",
       "      <td>300.0</td>\n",
       "      <td>77.0</td>\n",
       "      <td>-1.1</td>\n",
       "      <td>1023.2</td>\n",
       "      <td>-18.2</td>\n",
       "      <td>0.0</td>\n",
       "      <td>N</td>\n",
       "      <td>4.7</td>\n",
       "      <td>Aotizhongxin</td>\n",
       "    </tr>\n",
       "    <tr>\n",
       "      <th>2</th>\n",
       "      <td>3</td>\n",
       "      <td>2013</td>\n",
       "      <td>3</td>\n",
       "      <td>1</td>\n",
       "      <td>2</td>\n",
       "      <td>7.0</td>\n",
       "      <td>7.0</td>\n",
       "      <td>5.0</td>\n",
       "      <td>10.0</td>\n",
       "      <td>300.0</td>\n",
       "      <td>73.0</td>\n",
       "      <td>-1.1</td>\n",
       "      <td>1023.5</td>\n",
       "      <td>-18.2</td>\n",
       "      <td>0.0</td>\n",
       "      <td>NNW</td>\n",
       "      <td>5.6</td>\n",
       "      <td>Aotizhongxin</td>\n",
       "    </tr>\n",
       "  </tbody>\n",
       "</table>\n",
       "</div>"
      ],
      "text/plain": [
       "   No  year  month  day  hour  PM2.5  PM10  SO2   NO2     CO    O3  TEMP  \\\n",
       "0   1  2013      3    1     0    4.0   4.0  4.0   7.0  300.0  77.0  -0.7   \n",
       "1   2  2013      3    1     1    8.0   8.0  4.0   7.0  300.0  77.0  -1.1   \n",
       "2   3  2013      3    1     2    7.0   7.0  5.0  10.0  300.0  73.0  -1.1   \n",
       "\n",
       "     PRES  DEWP  RAIN   wd  WSPM       station  \n",
       "0  1023.0 -18.8   0.0  NNW   4.4  Aotizhongxin  \n",
       "1  1023.2 -18.2   0.0    N   4.7  Aotizhongxin  \n",
       "2  1023.5 -18.2   0.0  NNW   5.6  Aotizhongxin  "
      ]
     },
     "execution_count": 3,
     "metadata": {},
     "output_type": "execute_result"
    }
   ],
   "source": [
    "df_airq.head(3)"
   ]
  },
  {
   "cell_type": "code",
   "execution_count": 4,
   "metadata": {},
   "outputs": [],
   "source": [
    "#Rename the columns name\n",
    "df_airq1=df_airq.rename(columns={\"wd\": \"wind_direction\",\"DEWP\": \"dew_point_temp\" ,\"TEMP\": \" temp\",\"RAIN\": \"rain\",\"WSPM\":\"wind_speed\",\"PRES\":\"pressure\"})"
   ]
  },
  {
   "cell_type": "code",
   "execution_count": 5,
   "metadata": {},
   "outputs": [
    {
     "data": {
      "text/html": [
       "<div>\n",
       "<style scoped>\n",
       "    .dataframe tbody tr th:only-of-type {\n",
       "        vertical-align: middle;\n",
       "    }\n",
       "\n",
       "    .dataframe tbody tr th {\n",
       "        vertical-align: top;\n",
       "    }\n",
       "\n",
       "    .dataframe thead th {\n",
       "        text-align: right;\n",
       "    }\n",
       "</style>\n",
       "<table border=\"1\" class=\"dataframe\">\n",
       "  <thead>\n",
       "    <tr style=\"text-align: right;\">\n",
       "      <th></th>\n",
       "      <th>No</th>\n",
       "      <th>year</th>\n",
       "      <th>month</th>\n",
       "      <th>day</th>\n",
       "      <th>hour</th>\n",
       "      <th>PM2.5</th>\n",
       "      <th>PM10</th>\n",
       "      <th>SO2</th>\n",
       "      <th>NO2</th>\n",
       "      <th>CO</th>\n",
       "      <th>O3</th>\n",
       "      <th>temp</th>\n",
       "      <th>pressure</th>\n",
       "      <th>dew_point_temp</th>\n",
       "      <th>rain</th>\n",
       "      <th>wind_direction</th>\n",
       "      <th>wind_speed</th>\n",
       "      <th>station</th>\n",
       "    </tr>\n",
       "  </thead>\n",
       "  <tbody>\n",
       "    <tr>\n",
       "      <th>0</th>\n",
       "      <td>1</td>\n",
       "      <td>2013</td>\n",
       "      <td>3</td>\n",
       "      <td>1</td>\n",
       "      <td>0</td>\n",
       "      <td>4.0</td>\n",
       "      <td>4.0</td>\n",
       "      <td>4.0</td>\n",
       "      <td>7.0</td>\n",
       "      <td>300.0</td>\n",
       "      <td>77.0</td>\n",
       "      <td>-0.7</td>\n",
       "      <td>1023.0</td>\n",
       "      <td>-18.8</td>\n",
       "      <td>0.0</td>\n",
       "      <td>NNW</td>\n",
       "      <td>4.4</td>\n",
       "      <td>Aotizhongxin</td>\n",
       "    </tr>\n",
       "    <tr>\n",
       "      <th>1</th>\n",
       "      <td>2</td>\n",
       "      <td>2013</td>\n",
       "      <td>3</td>\n",
       "      <td>1</td>\n",
       "      <td>1</td>\n",
       "      <td>8.0</td>\n",
       "      <td>8.0</td>\n",
       "      <td>4.0</td>\n",
       "      <td>7.0</td>\n",
       "      <td>300.0</td>\n",
       "      <td>77.0</td>\n",
       "      <td>-1.1</td>\n",
       "      <td>1023.2</td>\n",
       "      <td>-18.2</td>\n",
       "      <td>0.0</td>\n",
       "      <td>N</td>\n",
       "      <td>4.7</td>\n",
       "      <td>Aotizhongxin</td>\n",
       "    </tr>\n",
       "    <tr>\n",
       "      <th>2</th>\n",
       "      <td>3</td>\n",
       "      <td>2013</td>\n",
       "      <td>3</td>\n",
       "      <td>1</td>\n",
       "      <td>2</td>\n",
       "      <td>7.0</td>\n",
       "      <td>7.0</td>\n",
       "      <td>5.0</td>\n",
       "      <td>10.0</td>\n",
       "      <td>300.0</td>\n",
       "      <td>73.0</td>\n",
       "      <td>-1.1</td>\n",
       "      <td>1023.5</td>\n",
       "      <td>-18.2</td>\n",
       "      <td>0.0</td>\n",
       "      <td>NNW</td>\n",
       "      <td>5.6</td>\n",
       "      <td>Aotizhongxin</td>\n",
       "    </tr>\n",
       "  </tbody>\n",
       "</table>\n",
       "</div>"
      ],
      "text/plain": [
       "   No  year  month  day  hour  PM2.5  PM10  SO2   NO2     CO    O3   temp  \\\n",
       "0   1  2013      3    1     0    4.0   4.0  4.0   7.0  300.0  77.0   -0.7   \n",
       "1   2  2013      3    1     1    8.0   8.0  4.0   7.0  300.0  77.0   -1.1   \n",
       "2   3  2013      3    1     2    7.0   7.0  5.0  10.0  300.0  73.0   -1.1   \n",
       "\n",
       "   pressure  dew_point_temp  rain wind_direction  wind_speed       station  \n",
       "0    1023.0           -18.8   0.0            NNW         4.4  Aotizhongxin  \n",
       "1    1023.2           -18.2   0.0              N         4.7  Aotizhongxin  \n",
       "2    1023.5           -18.2   0.0            NNW         5.6  Aotizhongxin  "
      ]
     },
     "execution_count": 5,
     "metadata": {},
     "output_type": "execute_result"
    }
   ],
   "source": [
    "#view top 3 rows and recheck if column name changes have taken effect\n",
    "df_airq1.head(3)"
   ]
  },
  {
   "cell_type": "code",
   "execution_count": 6,
   "metadata": {},
   "outputs": [
    {
     "data": {
      "text/plain": [
       "(420768, 18)"
      ]
     },
     "execution_count": 6,
     "metadata": {},
     "output_type": "execute_result"
    }
   ],
   "source": [
    "df_airq1.shape"
   ]
  },
  {
   "cell_type": "code",
   "execution_count": 7,
   "metadata": {},
   "outputs": [
    {
     "data": {
      "text/plain": [
       "Dongsi           35064\n",
       "Wanshouxigong    35064\n",
       "Gucheng          35064\n",
       "Guanyuan         35064\n",
       "Tiantan          35064\n",
       "Aotizhongxin     35064\n",
       "Shunyi           35064\n",
       "Changping        35064\n",
       "Nongzhanguan     35064\n",
       "Dingling         35064\n",
       "Wanliu           35064\n",
       "Huairou          35064\n",
       "Name: station, dtype: int64"
      ]
     },
     "execution_count": 7,
     "metadata": {},
     "output_type": "execute_result"
    }
   ],
   "source": [
    "df_airq1['station'].value_counts()"
   ]
  },
  {
   "cell_type": "markdown",
   "metadata": {},
   "source": [
    "# Taking random sample of data set 10 percent"
   ]
  },
  {
   "cell_type": "code",
   "execution_count": 8,
   "metadata": {},
   "outputs": [],
   "source": [
    "df_aq =df_airq1.groupby('station', group_keys=False).apply(lambda x: x.sample(3564))"
   ]
  },
  {
   "cell_type": "code",
   "execution_count": 9,
   "metadata": {},
   "outputs": [
    {
     "data": {
      "text/plain": [
       "(42768, 18)"
      ]
     },
     "execution_count": 9,
     "metadata": {},
     "output_type": "execute_result"
    }
   ],
   "source": [
    "df_aq.shape"
   ]
  },
  {
   "cell_type": "code",
   "execution_count": 10,
   "metadata": {},
   "outputs": [
    {
     "data": {
      "text/plain": [
       "Dingling         3564\n",
       "Tiantan          3564\n",
       "Dongsi           3564\n",
       "Wanliu           3564\n",
       "Shunyi           3564\n",
       "Wanshouxigong    3564\n",
       "Changping        3564\n",
       "Huairou          3564\n",
       "Nongzhanguan     3564\n",
       "Gucheng          3564\n",
       "Guanyuan         3564\n",
       "Aotizhongxin     3564\n",
       "Name: station, dtype: int64"
      ]
     },
     "execution_count": 10,
     "metadata": {},
     "output_type": "execute_result"
    }
   ],
   "source": [
    "df_aq['station'].value_counts()"
   ]
  },
  {
   "cell_type": "markdown",
   "metadata": {},
   "source": [
    "# Importing the necessary libraries"
   ]
  },
  {
   "cell_type": "code",
   "execution_count": 11,
   "metadata": {},
   "outputs": [],
   "source": [
    "# Importing the necessary libraries\n",
    "from sklearn.model_selection import StratifiedKFold\n",
    "from sklearn import linear_model\n",
    "from sklearn.model_selection import train_test_split\n",
    "from sklearn.preprocessing import StandardScaler, LabelEncoder\n",
    "from numpy import absolute, mean, std \n",
    "from sklearn.metrics import accuracy_score, mean_absolute_error, mean_squared_error,r2_score\n",
    "from sklearn.model_selection import learning_curve\n"
   ]
  },
  {
   "cell_type": "markdown",
   "metadata": {},
   "source": [
    "# Data preprocessing  removing missing valus and outlier etc"
   ]
  },
  {
   "cell_type": "code",
   "execution_count": 12,
   "metadata": {},
   "outputs": [],
   "source": [
    "# dropping unnecessary columns red\n",
    "df_aq.drop(['No' ], axis = 1, inplace = True)"
   ]
  },
  {
   "cell_type": "code",
   "execution_count": 13,
   "metadata": {},
   "outputs": [
    {
     "name": "stdout",
     "output_type": "stream",
     "text": [
      "<class 'pandas.core.frame.DataFrame'>\n",
      "Int64Index: 42768 entries, 11673 to 406661\n",
      "Data columns (total 17 columns):\n",
      " #   Column          Non-Null Count  Dtype  \n",
      "---  ------          --------------  -----  \n",
      " 0   year            42768 non-null  int64  \n",
      " 1   month           42768 non-null  int64  \n",
      " 2   day             42768 non-null  int64  \n",
      " 3   hour            42768 non-null  int64  \n",
      " 4   PM2.5           41887 non-null  float64\n",
      " 5   PM10            42101 non-null  float64\n",
      " 6   SO2             41887 non-null  float64\n",
      " 7   NO2             41560 non-null  float64\n",
      " 8   CO              40672 non-null  float64\n",
      " 9   O3              41423 non-null  float64\n",
      " 10   temp           42736 non-null  float64\n",
      " 11  pressure        42738 non-null  float64\n",
      " 12  dew_point_temp  42736 non-null  float64\n",
      " 13  rain            42739 non-null  float64\n",
      " 14  wind_direction  42593 non-null  object \n",
      " 15  wind_speed      42743 non-null  float64\n",
      " 16  station         42768 non-null  object \n",
      "dtypes: float64(11), int64(4), object(2)\n",
      "memory usage: 5.9+ MB\n"
     ]
    }
   ],
   "source": [
    "\n",
    "#check the type of columns in dataframe\n",
    "df_aq.info()"
   ]
  },
  {
   "cell_type": "code",
   "execution_count": 14,
   "metadata": {},
   "outputs": [
    {
     "data": {
      "text/plain": [
       "year                 0\n",
       "month                0\n",
       "day                  0\n",
       "hour                 0\n",
       "PM2.5              881\n",
       "PM10               667\n",
       "SO2                881\n",
       "NO2               1208\n",
       "CO                2096\n",
       "O3                1345\n",
       " temp               32\n",
       "pressure            30\n",
       "dew_point_temp      32\n",
       "rain                29\n",
       "wind_direction     175\n",
       "wind_speed          25\n",
       "station              0\n",
       "dtype: int64"
      ]
     },
     "execution_count": 14,
     "metadata": {},
     "output_type": "execute_result"
    }
   ],
   "source": [
    "#check for missing values \n",
    "df_aq.isnull().sum() "
   ]
  },
  {
   "cell_type": "code",
   "execution_count": 15,
   "metadata": {},
   "outputs": [],
   "source": [
    "#remoivng missing values\n",
    "df3_air= df_aq.dropna()"
   ]
  },
  {
   "cell_type": "code",
   "execution_count": 16,
   "metadata": {},
   "outputs": [
    {
     "data": {
      "text/plain": [
       "year              0\n",
       "month             0\n",
       "day               0\n",
       "hour              0\n",
       "PM2.5             0\n",
       "PM10              0\n",
       "SO2               0\n",
       "NO2               0\n",
       "CO                0\n",
       "O3                0\n",
       " temp             0\n",
       "pressure          0\n",
       "dew_point_temp    0\n",
       "rain              0\n",
       "wind_direction    0\n",
       "wind_speed        0\n",
       "station           0\n",
       "dtype: int64"
      ]
     },
     "execution_count": 16,
     "metadata": {},
     "output_type": "execute_result"
    }
   ],
   "source": [
    "#Again checking for missing values\n",
    "df3_air.isnull().sum()"
   ]
  },
  {
   "cell_type": "code",
   "execution_count": 17,
   "metadata": {},
   "outputs": [
    {
     "name": "stdout",
     "output_type": "stream",
     "text": [
      "90.0\n",
      "(1899, 17)\n"
     ]
    },
    {
     "data": {
      "text/plain": [
       "(37044, 17)"
      ]
     },
     "execution_count": 17,
     "metadata": {},
     "output_type": "execute_result"
    }
   ],
   "source": [
    "#removing outlier in target dataset.\n",
    "Q1=df3_air['PM2.5'].quantile(0.25)\n",
    "Q3=df3_air['PM2.5'].quantile(0.75)\n",
    "IQR=Q3-Q1\n",
    "print(IQR)\n",
    "df_out=pd.DataFrame()\n",
    "df_out=df3_air[(df3_air['PM2.5']<(Q1-1.5*IQR))|(df3_air['PM2.5']>(Q3+1.5*IQR))]\n",
    "print(df_out.shape)\n",
    "df3_air=df3_air[~((df3_air['PM2.5']<(Q1-1.5*IQR))|(df3_air['PM2.5']>(Q3+1.5*IQR)))]\n",
    "df3_air.shape"
   ]
  },
  {
   "cell_type": "markdown",
   "metadata": {},
   "source": [
    "# 2.Remove variables if you find multicollinearity between independent variables."
   ]
  },
  {
   "cell_type": "code",
   "execution_count": 18,
   "metadata": {},
   "outputs": [
    {
     "data": {
      "image/png": "[encoded data removed]",
      "text/plain": [
       "<Figure size 720x720 with 2 Axes>"
      ]
     },
     "metadata": {
      "needs_background": "light"
     },
     "output_type": "display_data"
    }
   ],
   "source": [
    "#checking the relation between independent variables\n",
    "\n",
    "plt.figure(figsize=(10, 10))\n",
    "plt.title('Correlation Matrix')\n",
    "sns.heatmap(df3_air.iloc[:,df3_air.columns != 'PM2.5'].corr(), annot=True, linewidth = 0.75)\n",
    "plt.show()"
   ]
  },
  {
   "cell_type": "markdown",
   "metadata": {},
   "source": [
    "#In this  data set dew point temerature and rain , \n",
    "temp and dew point temp are higly positively correlated so i will keep the dew point temrature and drop rain and tem for the data set."
   ]
  },
  {
   "cell_type": "code",
   "execution_count": 19,
   "metadata": {},
   "outputs": [
    {
     "data": {
      "text/html": [
       "<div>\n",
       "<style scoped>\n",
       "    .dataframe tbody tr th:only-of-type {\n",
       "        vertical-align: middle;\n",
       "    }\n",
       "\n",
       "    .dataframe tbody tr th {\n",
       "        vertical-align: top;\n",
       "    }\n",
       "\n",
       "    .dataframe thead th {\n",
       "        text-align: right;\n",
       "    }\n",
       "</style>\n",
       "<table border=\"1\" class=\"dataframe\">\n",
       "  <thead>\n",
       "    <tr style=\"text-align: right;\">\n",
       "      <th></th>\n",
       "      <th>year</th>\n",
       "      <th>month</th>\n",
       "      <th>day</th>\n",
       "      <th>hour</th>\n",
       "      <th>PM2.5</th>\n",
       "      <th>PM10</th>\n",
       "      <th>SO2</th>\n",
       "      <th>NO2</th>\n",
       "      <th>CO</th>\n",
       "      <th>O3</th>\n",
       "      <th>temp</th>\n",
       "      <th>pressure</th>\n",
       "      <th>dew_point_temp</th>\n",
       "      <th>rain</th>\n",
       "      <th>wind_direction</th>\n",
       "      <th>wind_speed</th>\n",
       "      <th>station</th>\n",
       "    </tr>\n",
       "  </thead>\n",
       "  <tbody>\n",
       "    <tr>\n",
       "      <th>11673</th>\n",
       "      <td>2014</td>\n",
       "      <td>6</td>\n",
       "      <td>30</td>\n",
       "      <td>9</td>\n",
       "      <td>68.0</td>\n",
       "      <td>68.0</td>\n",
       "      <td>8.0</td>\n",
       "      <td>70.0</td>\n",
       "      <td>1600.0</td>\n",
       "      <td>104.0</td>\n",
       "      <td>30.3</td>\n",
       "      <td>1000.9</td>\n",
       "      <td>19.0</td>\n",
       "      <td>0.0</td>\n",
       "      <td>SE</td>\n",
       "      <td>0.8</td>\n",
       "      <td>Aotizhongxin</td>\n",
       "    </tr>\n",
       "    <tr>\n",
       "      <th>3524</th>\n",
       "      <td>2013</td>\n",
       "      <td>7</td>\n",
       "      <td>25</td>\n",
       "      <td>20</td>\n",
       "      <td>70.0</td>\n",
       "      <td>169.0</td>\n",
       "      <td>30.0</td>\n",
       "      <td>58.0</td>\n",
       "      <td>1300.0</td>\n",
       "      <td>186.0</td>\n",
       "      <td>30.0</td>\n",
       "      <td>996.5</td>\n",
       "      <td>22.4</td>\n",
       "      <td>0.0</td>\n",
       "      <td>SSW</td>\n",
       "      <td>0.8</td>\n",
       "      <td>Aotizhongxin</td>\n",
       "    </tr>\n",
       "    <tr>\n",
       "      <th>28714</th>\n",
       "      <td>2016</td>\n",
       "      <td>6</td>\n",
       "      <td>9</td>\n",
       "      <td>10</td>\n",
       "      <td>170.0</td>\n",
       "      <td>170.0</td>\n",
       "      <td>12.0</td>\n",
       "      <td>41.0</td>\n",
       "      <td>1500.0</td>\n",
       "      <td>100.0</td>\n",
       "      <td>27.5</td>\n",
       "      <td>1002.9</td>\n",
       "      <td>17.1</td>\n",
       "      <td>0.0</td>\n",
       "      <td>S</td>\n",
       "      <td>1.6</td>\n",
       "      <td>Aotizhongxin</td>\n",
       "    </tr>\n",
       "  </tbody>\n",
       "</table>\n",
       "</div>"
      ],
      "text/plain": [
       "       year  month  day  hour  PM2.5   PM10   SO2   NO2      CO     O3   temp  \\\n",
       "11673  2014      6   30     9   68.0   68.0   8.0  70.0  1600.0  104.0   30.3   \n",
       "3524   2013      7   25    20   70.0  169.0  30.0  58.0  1300.0  186.0   30.0   \n",
       "28714  2016      6    9    10  170.0  170.0  12.0  41.0  1500.0  100.0   27.5   \n",
       "\n",
       "       pressure  dew_point_temp  rain wind_direction  wind_speed       station  \n",
       "11673    1000.9            19.0   0.0             SE         0.8  Aotizhongxin  \n",
       "3524      996.5            22.4   0.0            SSW         0.8  Aotizhongxin  \n",
       "28714    1002.9            17.1   0.0              S         1.6  Aotizhongxin  "
      ]
     },
     "execution_count": 19,
     "metadata": {},
     "output_type": "execute_result"
    }
   ],
   "source": [
    "df3_air.head(3)"
   ]
  },
  {
   "cell_type": "code",
   "execution_count": 20,
   "metadata": {},
   "outputs": [],
   "source": [
    "#now removing  correlated columns\n",
    "df4_air= df3_air.drop(df3_air.columns[[10,13]], axis=1)"
   ]
  },
  {
   "cell_type": "code",
   "execution_count": 21,
   "metadata": {},
   "outputs": [
    {
     "data": {
      "text/html": [
       "<div>\n",
       "<style scoped>\n",
       "    .dataframe tbody tr th:only-of-type {\n",
       "        vertical-align: middle;\n",
       "    }\n",
       "\n",
       "    .dataframe tbody tr th {\n",
       "        vertical-align: top;\n",
       "    }\n",
       "\n",
       "    .dataframe thead th {\n",
       "        text-align: right;\n",
       "    }\n",
       "</style>\n",
       "<table border=\"1\" class=\"dataframe\">\n",
       "  <thead>\n",
       "    <tr style=\"text-align: right;\">\n",
       "      <th></th>\n",
       "      <th>year</th>\n",
       "      <th>month</th>\n",
       "      <th>day</th>\n",
       "      <th>hour</th>\n",
       "      <th>PM2.5</th>\n",
       "      <th>PM10</th>\n",
       "      <th>SO2</th>\n",
       "      <th>NO2</th>\n",
       "      <th>CO</th>\n",
       "      <th>O3</th>\n",
       "      <th>pressure</th>\n",
       "      <th>dew_point_temp</th>\n",
       "      <th>wind_direction</th>\n",
       "      <th>wind_speed</th>\n",
       "      <th>station</th>\n",
       "    </tr>\n",
       "  </thead>\n",
       "  <tbody>\n",
       "    <tr>\n",
       "      <th>11673</th>\n",
       "      <td>2014</td>\n",
       "      <td>6</td>\n",
       "      <td>30</td>\n",
       "      <td>9</td>\n",
       "      <td>68.0</td>\n",
       "      <td>68.0</td>\n",
       "      <td>8.0</td>\n",
       "      <td>70.0</td>\n",
       "      <td>1600.0</td>\n",
       "      <td>104.0</td>\n",
       "      <td>1000.9</td>\n",
       "      <td>19.0</td>\n",
       "      <td>SE</td>\n",
       "      <td>0.8</td>\n",
       "      <td>Aotizhongxin</td>\n",
       "    </tr>\n",
       "    <tr>\n",
       "      <th>3524</th>\n",
       "      <td>2013</td>\n",
       "      <td>7</td>\n",
       "      <td>25</td>\n",
       "      <td>20</td>\n",
       "      <td>70.0</td>\n",
       "      <td>169.0</td>\n",
       "      <td>30.0</td>\n",
       "      <td>58.0</td>\n",
       "      <td>1300.0</td>\n",
       "      <td>186.0</td>\n",
       "      <td>996.5</td>\n",
       "      <td>22.4</td>\n",
       "      <td>SSW</td>\n",
       "      <td>0.8</td>\n",
       "      <td>Aotizhongxin</td>\n",
       "    </tr>\n",
       "    <tr>\n",
       "      <th>28714</th>\n",
       "      <td>2016</td>\n",
       "      <td>6</td>\n",
       "      <td>9</td>\n",
       "      <td>10</td>\n",
       "      <td>170.0</td>\n",
       "      <td>170.0</td>\n",
       "      <td>12.0</td>\n",
       "      <td>41.0</td>\n",
       "      <td>1500.0</td>\n",
       "      <td>100.0</td>\n",
       "      <td>1002.9</td>\n",
       "      <td>17.1</td>\n",
       "      <td>S</td>\n",
       "      <td>1.6</td>\n",
       "      <td>Aotizhongxin</td>\n",
       "    </tr>\n",
       "  </tbody>\n",
       "</table>\n",
       "</div>"
      ],
      "text/plain": [
       "       year  month  day  hour  PM2.5   PM10   SO2   NO2      CO     O3  \\\n",
       "11673  2014      6   30     9   68.0   68.0   8.0  70.0  1600.0  104.0   \n",
       "3524   2013      7   25    20   70.0  169.0  30.0  58.0  1300.0  186.0   \n",
       "28714  2016      6    9    10  170.0  170.0  12.0  41.0  1500.0  100.0   \n",
       "\n",
       "       pressure  dew_point_temp wind_direction  wind_speed       station  \n",
       "11673    1000.9            19.0             SE         0.8  Aotizhongxin  \n",
       "3524      996.5            22.4            SSW         0.8  Aotizhongxin  \n",
       "28714    1002.9            17.1              S         1.6  Aotizhongxin  "
      ]
     },
     "execution_count": 21,
     "metadata": {},
     "output_type": "execute_result"
    }
   ],
   "source": [
    "df4_air.head(3)"
   ]
  },
  {
   "cell_type": "markdown",
   "metadata": {},
   "source": [
    "# Reindex the columns such that target variable(PM2.5) should be at the last in the column index"
   ]
  },
  {
   "cell_type": "code",
   "execution_count": 22,
   "metadata": {},
   "outputs": [
    {
     "data": {
      "text/plain": [
       "Index(['year', 'month', 'day', 'hour', 'PM2.5', 'PM10', 'SO2', 'NO2', 'CO',\n",
       "       'O3', 'pressure', 'dew_point_temp', 'wind_direction', 'wind_speed',\n",
       "       'station'],\n",
       "      dtype='object')"
      ]
     },
     "execution_count": 22,
     "metadata": {},
     "output_type": "execute_result"
    }
   ],
   "source": [
    "df4_air.columns"
   ]
  },
  {
   "cell_type": "code",
   "execution_count": 23,
   "metadata": {},
   "outputs": [],
   "source": [
    "#reindexing to make sure PM2.5 is the last column\n",
    "df5_air= df4_air.reindex(columns = ['year', 'month', 'day', 'hour', 'PM10', 'SO2', 'NO2', 'CO',\n",
    "       'O3', 'pressure', 'dew_point_temp',  'wind_direction',\n",
    "       'wind_speed', 'station', 'PM2.5'])"
   ]
  },
  {
   "cell_type": "code",
   "execution_count": 24,
   "metadata": {},
   "outputs": [
    {
     "data": {
      "text/plain": [
       "Index(['year', 'month', 'day', 'hour', 'PM10', 'SO2', 'NO2', 'CO', 'O3',\n",
       "       'pressure', 'dew_point_temp', 'wind_direction', 'wind_speed', 'station',\n",
       "       'PM2.5'],\n",
       "      dtype='object')"
      ]
     },
     "execution_count": 24,
     "metadata": {},
     "output_type": "execute_result"
    }
   ],
   "source": [
    "df5_air.columns"
   ]
  },
  {
   "cell_type": "markdown",
   "metadata": {},
   "source": [
    "# • Make an 80-20 stratified split based on the target data"
   ]
  },
  {
   "cell_type": "code",
   "execution_count": 25,
   "metadata": {},
   "outputs": [],
   "source": [
    "#Independent variables and dependent variables and placed them into X and y respectively from the final dataset.\n",
    "# \"pm2.5\"  it will be the target variable and placing it in a new variable y.\n",
    "X = df5_air.drop(['PM2.5'],axis =1 )\n",
    "Y = df5_air['PM2.5']\n"
   ]
  },
  {
   "cell_type": "code",
   "execution_count": 26,
   "metadata": {},
   "outputs": [],
   "source": [
    " #Stratified 80-20 train test split and keeping shuffle parameter true\n",
    "x_train, x_test, y_train, y_test = train_test_split( X,Y,\n",
    "                        shuffle = True, test_size=0.2, stratify =X['station'])"
   ]
  },
  {
   "cell_type": "code",
   "execution_count": 27,
   "metadata": {},
   "outputs": [
    {
     "name": "stdout",
     "output_type": "stream",
     "text": [
      "Train (29635, 14) (29635,)\n",
      "Test (7409, 14) (7409,)\n"
     ]
    }
   ],
   "source": [
    "print('Train', x_train.shape, y_train.shape)\n",
    "print('Test', x_test.shape, y_test.shape)"
   ]
  },
  {
   "cell_type": "markdown",
   "metadata": {},
   "source": [
    "# Preprocess the data (Encode the categorical features and Standardize the numerical features) of merged dataset"
   ]
  },
  {
   "cell_type": "code",
   "execution_count": 28,
   "metadata": {},
   "outputs": [],
   "source": [
    "# assigning preprocessing modules to variables\n",
    "scaler = StandardScaler()\n",
    "le = LabelEncoder() "
   ]
  },
  {
   "cell_type": "code",
   "execution_count": 31,
   "metadata": {},
   "outputs": [
    {
     "name": "stderr",
     "output_type": "stream",
     "text": [
      "C:\\ProgramData\\Anaconda3\\lib\\site-packages\\ipykernel_launcher.py:5: SettingWithCopyWarning: \n",
      "A value is trying to be set on a copy of a slice from a DataFrame.\n",
      "Try using .loc[row_indexer,col_indexer] = value instead\n",
      "\n",
      "See the caveats in the documentation: https://pandas.pydata.org/pandas-docs/stable/user_guide/indexing.html#returning-a-view-versus-a-copy\n",
      "  \"\"\"\n",
      "C:\\ProgramData\\Anaconda3\\lib\\site-packages\\ipykernel_launcher.py:6: SettingWithCopyWarning: \n",
      "A value is trying to be set on a copy of a slice from a DataFrame.\n",
      "Try using .loc[row_indexer,col_indexer] = value instead\n",
      "\n",
      "See the caveats in the documentation: https://pandas.pydata.org/pandas-docs/stable/user_guide/indexing.html#returning-a-view-versus-a-copy\n",
      "  \n",
      "C:\\ProgramData\\Anaconda3\\lib\\site-packages\\ipykernel_launcher.py:8: SettingWithCopyWarning: \n",
      "A value is trying to be set on a copy of a slice from a DataFrame.\n",
      "Try using .loc[row_indexer,col_indexer] = value instead\n",
      "\n",
      "See the caveats in the documentation: https://pandas.pydata.org/pandas-docs/stable/user_guide/indexing.html#returning-a-view-versus-a-copy\n",
      "  \n",
      "C:\\ProgramData\\Anaconda3\\lib\\site-packages\\ipykernel_launcher.py:9: SettingWithCopyWarning: \n",
      "A value is trying to be set on a copy of a slice from a DataFrame.\n",
      "Try using .loc[row_indexer,col_indexer] = value instead\n",
      "\n",
      "See the caveats in the documentation: https://pandas.pydata.org/pandas-docs/stable/user_guide/indexing.html#returning-a-view-versus-a-copy\n",
      "  if __name__ == '__main__':\n"
     ]
    }
   ],
   "source": [
    "# Fitting the categorical variables using label_encoder on the train and test data\n",
    "x_train_sklern = x_train.copy()\n",
    "x_test_sklern = x_test.copy()\n",
    "\n",
    "x_train['wind_direction']= le.fit_transform(x_train['wind_direction']) \n",
    "x_train['station']= le.fit_transform(x_train['station']) \n",
    "\n",
    "x_test['wind_direction']= le.fit_transform(x_test['wind_direction']) \n",
    "x_test['station']= le.fit_transform(x_test['station']) "
   ]
  },
  {
   "cell_type": "code",
   "execution_count": 32,
   "metadata": {},
   "outputs": [
    {
     "data": {
      "text/html": [
       "<div>\n",
       "<style scoped>\n",
       "    .dataframe tbody tr th:only-of-type {\n",
       "        vertical-align: middle;\n",
       "    }\n",
       "\n",
       "    .dataframe tbody tr th {\n",
       "        vertical-align: top;\n",
       "    }\n",
       "\n",
       "    .dataframe thead th {\n",
       "        text-align: right;\n",
       "    }\n",
       "</style>\n",
       "<table border=\"1\" class=\"dataframe\">\n",
       "  <thead>\n",
       "    <tr style=\"text-align: right;\">\n",
       "      <th></th>\n",
       "      <th>year</th>\n",
       "      <th>month</th>\n",
       "      <th>day</th>\n",
       "      <th>hour</th>\n",
       "      <th>PM10</th>\n",
       "      <th>SO2</th>\n",
       "      <th>NO2</th>\n",
       "      <th>CO</th>\n",
       "      <th>O3</th>\n",
       "      <th>pressure</th>\n",
       "      <th>dew_point_temp</th>\n",
       "      <th>wind_direction</th>\n",
       "      <th>wind_speed</th>\n",
       "      <th>station</th>\n",
       "    </tr>\n",
       "  </thead>\n",
       "  <tbody>\n",
       "    <tr>\n",
       "      <th>12879</th>\n",
       "      <td>2014</td>\n",
       "      <td>8</td>\n",
       "      <td>19</td>\n",
       "      <td>15</td>\n",
       "      <td>98.0</td>\n",
       "      <td>5.0</td>\n",
       "      <td>25.0</td>\n",
       "      <td>600.0</td>\n",
       "      <td>210.0</td>\n",
       "      <td>1003.4</td>\n",
       "      <td>18.7</td>\n",
       "      <td>12</td>\n",
       "      <td>2.1</td>\n",
       "      <td>0</td>\n",
       "    </tr>\n",
       "    <tr>\n",
       "      <th>135887</th>\n",
       "      <td>2016</td>\n",
       "      <td>8</td>\n",
       "      <td>30</td>\n",
       "      <td>23</td>\n",
       "      <td>95.0</td>\n",
       "      <td>5.0</td>\n",
       "      <td>61.0</td>\n",
       "      <td>1000.0</td>\n",
       "      <td>89.0</td>\n",
       "      <td>996.8</td>\n",
       "      <td>16.7</td>\n",
       "      <td>4</td>\n",
       "      <td>1.6</td>\n",
       "      <td>3</td>\n",
       "    </tr>\n",
       "    <tr>\n",
       "      <th>382502</th>\n",
       "      <td>2016</td>\n",
       "      <td>10</td>\n",
       "      <td>18</td>\n",
       "      <td>14</td>\n",
       "      <td>207.0</td>\n",
       "      <td>6.0</td>\n",
       "      <td>87.0</td>\n",
       "      <td>1800.0</td>\n",
       "      <td>10.0</td>\n",
       "      <td>1012.7</td>\n",
       "      <td>13.1</td>\n",
       "      <td>4</td>\n",
       "      <td>1.4</td>\n",
       "      <td>10</td>\n",
       "    </tr>\n",
       "    <tr>\n",
       "      <th>291775</th>\n",
       "      <td>2014</td>\n",
       "      <td>6</td>\n",
       "      <td>13</td>\n",
       "      <td>7</td>\n",
       "      <td>62.0</td>\n",
       "      <td>2.0</td>\n",
       "      <td>46.0</td>\n",
       "      <td>500.0</td>\n",
       "      <td>17.0</td>\n",
       "      <td>1005.4</td>\n",
       "      <td>18.0</td>\n",
       "      <td>3</td>\n",
       "      <td>1.5</td>\n",
       "      <td>8</td>\n",
       "    </tr>\n",
       "    <tr>\n",
       "      <th>30727</th>\n",
       "      <td>2016</td>\n",
       "      <td>9</td>\n",
       "      <td>1</td>\n",
       "      <td>7</td>\n",
       "      <td>35.0</td>\n",
       "      <td>4.0</td>\n",
       "      <td>36.0</td>\n",
       "      <td>300.0</td>\n",
       "      <td>36.0</td>\n",
       "      <td>991.2</td>\n",
       "      <td>0.7</td>\n",
       "      <td>6</td>\n",
       "      <td>2.1</td>\n",
       "      <td>0</td>\n",
       "    </tr>\n",
       "  </tbody>\n",
       "</table>\n",
       "</div>"
      ],
      "text/plain": [
       "        year  month  day  hour   PM10  SO2   NO2      CO     O3  pressure  \\\n",
       "12879   2014      8   19    15   98.0  5.0  25.0   600.0  210.0    1003.4   \n",
       "135887  2016      8   30    23   95.0  5.0  61.0  1000.0   89.0     996.8   \n",
       "382502  2016     10   18    14  207.0  6.0  87.0  1800.0   10.0    1012.7   \n",
       "291775  2014      6   13     7   62.0  2.0  46.0   500.0   17.0    1005.4   \n",
       "30727   2016      9    1     7   35.0  4.0  36.0   300.0   36.0     991.2   \n",
       "\n",
       "        dew_point_temp  wind_direction  wind_speed  station  \n",
       "12879             18.7              12         2.1        0  \n",
       "135887            16.7               4         1.6        3  \n",
       "382502            13.1               4         1.4       10  \n",
       "291775            18.0               3         1.5        8  \n",
       "30727              0.7               6         2.1        0  "
      ]
     },
     "execution_count": 32,
     "metadata": {},
     "output_type": "execute_result"
    }
   ],
   "source": [
    "x_train_sklern.head() "
   ]
  },
  {
   "cell_type": "code",
   "execution_count": 33,
   "metadata": {},
   "outputs": [],
   "source": [
    "## Fitting the numerical variables using StandardScaler on the train and test data\n",
    "\n",
    "x_train = pd.DataFrame(scaler.fit_transform(x_train), columns=x_train.columns )\n",
    "x_test =  pd.DataFrame(scaler.fit_transform(x_test), columns=x_test.columns )"
   ]
  },
  {
   "cell_type": "markdown",
   "metadata": {},
   "source": [
    "# • Build a stochastic gradient descent regressor, train the model"
   ]
  },
  {
   "cell_type": "code",
   "execution_count": 34,
   "metadata": {},
   "outputs": [
    {
     "data": {
      "text/plain": [
       "sklearn.linear_model._stochastic_gradient.SGDRegressor"
      ]
     },
     "execution_count": 34,
     "metadata": {},
     "output_type": "execute_result"
    }
   ],
   "source": [
    "# using stochastic gradient descent regressor to train the model\n",
    "sgd = linear_model.SGDRegressor(shuffle=False)\n",
    "type(sgd)"
   ]
  },
  {
   "cell_type": "code",
   "execution_count": 35,
   "metadata": {
    "scrolled": true
   },
   "outputs": [
    {
     "data": {
      "text/plain": [
       "SGDRegressor(alpha=0.0001, average=False, early_stopping=False, epsilon=0.1,\n",
       "             eta0=0.01, fit_intercept=True, l1_ratio=0.15,\n",
       "             learning_rate='invscaling', loss='squared_loss', max_iter=1000,\n",
       "             n_iter_no_change=5, penalty='l2', power_t=0.25, random_state=None,\n",
       "             shuffle=False, tol=0.001, validation_fraction=0.1, verbose=0,\n",
       "             warm_start=False)"
      ]
     },
     "execution_count": 35,
     "metadata": {},
     "output_type": "execute_result"
    }
   ],
   "source": [
    "# Fitting the data\n",
    "sgd.fit(x_train, y_train)  "
   ]
  },
  {
   "cell_type": "markdown",
   "metadata": {},
   "source": [
    "Here I am using the default values for the SGDRegressor. Increasing the validation_fraction and setting more data aside\n",
    "for validation is increasing the error.Hence it is best kept to default. The squared_loss in the learning setting helps \n",
    "to predict a real valued variable y. It will help to minimize the average arror of squares. \n",
    "We are not implementing any feature selection and used the default l2 in the first case."
   ]
  },
  {
   "cell_type": "code",
   "execution_count": 36,
   "metadata": {},
   "outputs": [],
   "source": [
    "# Predicting the y values using train and test data\n",
    "y_pred = sgd.predict(x_test)\n",
    "y_train_pred = sgd.predict(x_train)"
   ]
  },
  {
   "cell_type": "markdown",
   "metadata": {},
   "source": [
    "# Evaluate your model based on applicable metrics. Show the metric(s) you chose and why you chose this(these) metrics."
   ]
  },
  {
   "cell_type": "code",
   "execution_count": 37,
   "metadata": {},
   "outputs": [
    {
     "name": "stdout",
     "output_type": "stream",
     "text": [
      "Model Score: 0.78\n",
      "MAE on Test: 18.79\n",
      "MAE on Train: 18.24\n",
      "MSE on Train: 692.14\n",
      "MSE on Test: 748.02\n",
      "R2 on train: 0.7865516109708995\n",
      "R2 on test: 0.7816167287390363\n"
     ]
    }
   ],
   "source": [
    "# Printing the Model score, mean absolute/square errors  & RMSE for train and test predictions \n",
    "print(\"Model Score: %.2f\" % sgd.score(x_test, y_test))\n",
    "print (\"MAE on Test: %.2f\" %mean_absolute_error(y_test, y_pred))\n",
    "print (\"MAE on Train: %.2f\" %mean_absolute_error(y_train, y_train_pred))\n",
    "print(\"MSE on Train: %.2f\" % mean_squared_error(y_train, y_train_pred))\n",
    "print(\"MSE on Test: %.2f\" % mean_squared_error(y_test, y_pred))\n",
    "print('R2 on train:', r2_score(y_train, y_train_pred))\n",
    "print('R2 on test:', r2_score(y_test, y_pred))\n"
   ]
  },
  {
   "cell_type": "markdown",
   "metadata": {},
   "source": [
    " There are few differences between MAE & MSE\n",
    "Mean absolute Error (MAE): It does not account for the direction of the value. \n",
    "Even if value is negative, positive value is used for calculation. MAE is less \n",
    "biased for higher values. It may not adequately reflect the performance when dealing\n",
    " with large error values. MAE is less than RMSE as the sample size goes up.\n",
    "Mean square Error (MSE) it does account for positive or negative value. RMSE  share \n",
    "many properties with MSE because RMSE is simply the square root of MSE. MSE is highly biased\n",
    "for higher values. If you have outlier in the data and you want to ignore them, MAE is a better\n",
    "option but this data we removed outlier but still I will choose MAE over MSE.\n",
    "\n",
    " \n"
   ]
  },
  {
   "cell_type": "markdown",
   "metadata": {},
   "source": [
    "# List the hyper-parameters that can be tuned in SGD. \n",
    "\n",
    "comments on the parameter value chosen (use class presentation, discussion notes, some online reading) and \n",
    "why this value was chosen. Show the improvement you achieved in model accuracy."
   ]
  },
  {
   "cell_type": "code",
   "execution_count": 38,
   "metadata": {},
   "outputs": [
    {
     "name": "stdout",
     "output_type": "stream",
     "text": [
      "Mean Absolute Test Error: 18.10\n",
      "MSE on Test: 763.41\n",
      "R2 on test: 0.777124499361258\n"
     ]
    }
   ],
   "source": [
    "# using  custom sgd regressor\n",
    "sgd = linear_model.SGDRegressor(alpha = .0001,\n",
    "                                loss = 'epsilon_insensitive', \n",
    "                                epsilon = 6,\n",
    "                                max_iter=10000, \n",
    "                                penalty='l1',\n",
    "                                learning_rate='adaptive', eta0 = .1, power_t = .1)\n",
    "sgd.fit(x_train, y_train)\n",
    "y_pred = sgd.predict(x_test)\n",
    "print (\"Mean Absolute Test Error: %.2f\" %mean_absolute_error(y_test, y_pred))\n",
    "print(\"MSE on Test: %.2f\" % mean_squared_error(y_test, y_pred))\n",
    "print('R2 on test:', r2_score(y_test, y_pred))"
   ]
  },
  {
   "cell_type": "markdown",
   "metadata": {},
   "source": [
    "In the above tuning, we observe that changing the loss function to epsilon_insensitive, which helps to focus more on linear loss than squared loss after a certain point(epsilon). It helps in ignoring errors upto a certain distance and we have increased the default value of .1 to 6. Changing the penalty from l2 to l1 allows feature selection to bring sparsity to the model and explore the data. Also, doing adaptive learning and setting the initial learning rate eta0 to .1 has helped us reduce the overall MAE & r2 compared to default . Since the data is randomized during after each SGD run, it is best to not mention the numerical values. We observe that these hyper-parameter tuning allowed us to reduce the error."
   ]
  },
  {
   "cell_type": "markdown",
   "metadata": {},
   "source": [
    "Learning rate, batch size and momentum are three important hyperparameters in the SGD algorithm\n",
    "Grid search\n",
    "Grid search is arguably the most basic hyperparameter tuning method. With this technique, we simply build a model for each possible combination of all of the hyperparameter values provided, evaluating each model, and selecting the architecture which produces the best results\n",
    "Random search\n",
    "Random search differs from grid search in that we longer provide a discrete set of values to explore for each hyperparameter; rather, we provide a statistical distribution for each hyperparameter from which values may be randomly sampled.\n",
    "Batch gradient  can also be used.\n"
   ]
  },
  {
   "cell_type": "code",
   "execution_count": null,
   "metadata": {},
   "outputs": [],
   "source": []
  },
  {
   "cell_type": "code",
   "execution_count": null,
   "metadata": {},
   "outputs": [],
   "source": []
  }
 ],
 "metadata": {
  "kernelspec": {
   "display_name": "Python 3",
   "language": "python",
   "name": "python3"
  },
  "language_info": {
   "codemirror_mode": {
    "name": "ipython",
    "version": 3
   },
   "file_extension": ".py",
   "mimetype": "text/x-python",
   "name": "python",
   "nbconvert_exporter": "python",
   "pygments_lexer": "ipython3",
   "version": "3.7.6"
  }
 },
 "nbformat": 4,
 "nbformat_minor": 4
}
