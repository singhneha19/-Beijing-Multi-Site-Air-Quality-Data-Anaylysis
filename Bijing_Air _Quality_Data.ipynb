{
 "cells": [
  {
   "cell_type": "code",
   "execution_count": 1,
   "metadata": {},
   "outputs": [],
   "source": [
    "# Common imports\n",
    "import csv\n",
    "import pandas as pd\n",
    "import os, glob\n",
    "# import plotting libraries\n",
    "import seaborn as sns\n",
    "import matplotlib.pyplot as plt\n",
    "from pandas.plotting import scatter_matrix\n",
    "from statsmodels.stats.outliers_influence import variance_inflation_factor"
   ]
  },
  {
   "cell_type": "code",
   "execution_count": 2,
   "metadata": {},
   "outputs": [],
   "source": [
    "#Loading  the file 'PRSA_Data_Aotizhongxin_20130301-20170228.csv', display the top 3 rows and observe the data. Then programmatically define the column names to make the following changes.\n",
    "\n",
    "Data_Aotizhongxin =pd.read_csv(\"PRSA_Data_Aotizhongxin_20130301-20170228.csv\")\n"
   ]
  },
  {
   "cell_type": "code",
   "execution_count": 3,
   "metadata": {},
   "outputs": [
    {
     "data": {
      "text/html": [
       "<div>\n",
       "<style scoped>\n",
       "    .dataframe tbody tr th:only-of-type {\n",
       "        vertical-align: middle;\n",
       "    }\n",
       "\n",
       "    .dataframe tbody tr th {\n",
       "        vertical-align: top;\n",
       "    }\n",
       "\n",
       "    .dataframe thead th {\n",
       "        text-align: right;\n",
       "    }\n",
       "</style>\n",
       "<table border=\"1\" class=\"dataframe\">\n",
       "  <thead>\n",
       "    <tr style=\"text-align: right;\">\n",
       "      <th></th>\n",
       "      <th>No</th>\n",
       "      <th>year</th>\n",
       "      <th>month</th>\n",
       "      <th>day</th>\n",
       "      <th>hour</th>\n",
       "      <th>PM2.5</th>\n",
       "      <th>PM10</th>\n",
       "      <th>SO2</th>\n",
       "      <th>NO2</th>\n",
       "      <th>CO</th>\n",
       "      <th>O3</th>\n",
       "      <th>TEMP</th>\n",
       "      <th>PRES</th>\n",
       "      <th>DEWP</th>\n",
       "      <th>RAIN</th>\n",
       "      <th>wd</th>\n",
       "      <th>WSPM</th>\n",
       "      <th>station</th>\n",
       "    </tr>\n",
       "  </thead>\n",
       "  <tbody>\n",
       "    <tr>\n",
       "      <th>0</th>\n",
       "      <td>1</td>\n",
       "      <td>2013</td>\n",
       "      <td>3</td>\n",
       "      <td>1</td>\n",
       "      <td>0</td>\n",
       "      <td>4.0</td>\n",
       "      <td>4.0</td>\n",
       "      <td>4.0</td>\n",
       "      <td>7.0</td>\n",
       "      <td>300.0</td>\n",
       "      <td>77.0</td>\n",
       "      <td>-0.7</td>\n",
       "      <td>1023.0</td>\n",
       "      <td>-18.8</td>\n",
       "      <td>0.0</td>\n",
       "      <td>NNW</td>\n",
       "      <td>4.4</td>\n",
       "      <td>Aotizhongxin</td>\n",
       "    </tr>\n",
       "    <tr>\n",
       "      <th>1</th>\n",
       "      <td>2</td>\n",
       "      <td>2013</td>\n",
       "      <td>3</td>\n",
       "      <td>1</td>\n",
       "      <td>1</td>\n",
       "      <td>8.0</td>\n",
       "      <td>8.0</td>\n",
       "      <td>4.0</td>\n",
       "      <td>7.0</td>\n",
       "      <td>300.0</td>\n",
       "      <td>77.0</td>\n",
       "      <td>-1.1</td>\n",
       "      <td>1023.2</td>\n",
       "      <td>-18.2</td>\n",
       "      <td>0.0</td>\n",
       "      <td>N</td>\n",
       "      <td>4.7</td>\n",
       "      <td>Aotizhongxin</td>\n",
       "    </tr>\n",
       "    <tr>\n",
       "      <th>2</th>\n",
       "      <td>3</td>\n",
       "      <td>2013</td>\n",
       "      <td>3</td>\n",
       "      <td>1</td>\n",
       "      <td>2</td>\n",
       "      <td>7.0</td>\n",
       "      <td>7.0</td>\n",
       "      <td>5.0</td>\n",
       "      <td>10.0</td>\n",
       "      <td>300.0</td>\n",
       "      <td>73.0</td>\n",
       "      <td>-1.1</td>\n",
       "      <td>1023.5</td>\n",
       "      <td>-18.2</td>\n",
       "      <td>0.0</td>\n",
       "      <td>NNW</td>\n",
       "      <td>5.6</td>\n",
       "      <td>Aotizhongxin</td>\n",
       "    </tr>\n",
       "  </tbody>\n",
       "</table>\n",
       "</div>"
      ],
      "text/plain": [
       "   No  year  month  day  hour  PM2.5  PM10  SO2   NO2     CO    O3  TEMP  \\\n",
       "0   1  2013      3    1     0    4.0   4.0  4.0   7.0  300.0  77.0  -0.7   \n",
       "1   2  2013      3    1     1    8.0   8.0  4.0   7.0  300.0  77.0  -1.1   \n",
       "2   3  2013      3    1     2    7.0   7.0  5.0  10.0  300.0  73.0  -1.1   \n",
       "\n",
       "     PRES  DEWP  RAIN   wd  WSPM       station  \n",
       "0  1023.0 -18.8   0.0  NNW   4.4  Aotizhongxin  \n",
       "1  1023.2 -18.2   0.0    N   4.7  Aotizhongxin  \n",
       "2  1023.5 -18.2   0.0  NNW   5.6  Aotizhongxin  "
      ]
     },
     "execution_count": 3,
     "metadata": {},
     "output_type": "execute_result"
    }
   ],
   "source": [
    "# display the PRSA_Data_Aotizhongxintop 3 rows and observe the data.\n",
    "Data_Aotizhongxin.head(3)"
   ]
  },
  {
   "cell_type": "code",
   "execution_count": 4,
   "metadata": {},
   "outputs": [],
   "source": [
    "#Rename the columns name\n",
    "Data_Aotizhongxin_new=Data_Aotizhongxin.rename(columns={\"wd\": \"wind_direction\",\"DEWP\": \"dew_point_temp\" ,\"TEMP\": \" temp\",\"RAIN\": \"rain\",\"WSPM\":\"wind_speed\",\"PRES\":\"pressure\"})"
   ]
  },
  {
   "cell_type": "code",
   "execution_count": 5,
   "metadata": {},
   "outputs": [
    {
     "data": {
      "text/html": [
       "<div>\n",
       "<style scoped>\n",
       "    .dataframe tbody tr th:only-of-type {\n",
       "        vertical-align: middle;\n",
       "    }\n",
       "\n",
       "    .dataframe tbody tr th {\n",
       "        vertical-align: top;\n",
       "    }\n",
       "\n",
       "    .dataframe thead th {\n",
       "        text-align: right;\n",
       "    }\n",
       "</style>\n",
       "<table border=\"1\" class=\"dataframe\">\n",
       "  <thead>\n",
       "    <tr style=\"text-align: right;\">\n",
       "      <th></th>\n",
       "      <th>No</th>\n",
       "      <th>year</th>\n",
       "      <th>month</th>\n",
       "      <th>day</th>\n",
       "      <th>hour</th>\n",
       "      <th>PM2.5</th>\n",
       "      <th>PM10</th>\n",
       "      <th>SO2</th>\n",
       "      <th>NO2</th>\n",
       "      <th>CO</th>\n",
       "      <th>O3</th>\n",
       "      <th>temp</th>\n",
       "      <th>pressure</th>\n",
       "      <th>dew_point_temp</th>\n",
       "      <th>rain</th>\n",
       "      <th>wind_direction</th>\n",
       "      <th>wind_speed</th>\n",
       "      <th>station</th>\n",
       "    </tr>\n",
       "  </thead>\n",
       "  <tbody>\n",
       "    <tr>\n",
       "      <th>0</th>\n",
       "      <td>1</td>\n",
       "      <td>2013</td>\n",
       "      <td>3</td>\n",
       "      <td>1</td>\n",
       "      <td>0</td>\n",
       "      <td>4.0</td>\n",
       "      <td>4.0</td>\n",
       "      <td>4.0</td>\n",
       "      <td>7.0</td>\n",
       "      <td>300.0</td>\n",
       "      <td>77.0</td>\n",
       "      <td>-0.7</td>\n",
       "      <td>1023.0</td>\n",
       "      <td>-18.8</td>\n",
       "      <td>0.0</td>\n",
       "      <td>NNW</td>\n",
       "      <td>4.4</td>\n",
       "      <td>Aotizhongxin</td>\n",
       "    </tr>\n",
       "    <tr>\n",
       "      <th>1</th>\n",
       "      <td>2</td>\n",
       "      <td>2013</td>\n",
       "      <td>3</td>\n",
       "      <td>1</td>\n",
       "      <td>1</td>\n",
       "      <td>8.0</td>\n",
       "      <td>8.0</td>\n",
       "      <td>4.0</td>\n",
       "      <td>7.0</td>\n",
       "      <td>300.0</td>\n",
       "      <td>77.0</td>\n",
       "      <td>-1.1</td>\n",
       "      <td>1023.2</td>\n",
       "      <td>-18.2</td>\n",
       "      <td>0.0</td>\n",
       "      <td>N</td>\n",
       "      <td>4.7</td>\n",
       "      <td>Aotizhongxin</td>\n",
       "    </tr>\n",
       "    <tr>\n",
       "      <th>2</th>\n",
       "      <td>3</td>\n",
       "      <td>2013</td>\n",
       "      <td>3</td>\n",
       "      <td>1</td>\n",
       "      <td>2</td>\n",
       "      <td>7.0</td>\n",
       "      <td>7.0</td>\n",
       "      <td>5.0</td>\n",
       "      <td>10.0</td>\n",
       "      <td>300.0</td>\n",
       "      <td>73.0</td>\n",
       "      <td>-1.1</td>\n",
       "      <td>1023.5</td>\n",
       "      <td>-18.2</td>\n",
       "      <td>0.0</td>\n",
       "      <td>NNW</td>\n",
       "      <td>5.6</td>\n",
       "      <td>Aotizhongxin</td>\n",
       "    </tr>\n",
       "  </tbody>\n",
       "</table>\n",
       "</div>"
      ],
      "text/plain": [
       "   No  year  month  day  hour  PM2.5  PM10  SO2   NO2     CO    O3   temp  \\\n",
       "0   1  2013      3    1     0    4.0   4.0  4.0   7.0  300.0  77.0   -0.7   \n",
       "1   2  2013      3    1     1    8.0   8.0  4.0   7.0  300.0  77.0   -1.1   \n",
       "2   3  2013      3    1     2    7.0   7.0  5.0  10.0  300.0  73.0   -1.1   \n",
       "\n",
       "   pressure  dew_point_temp  rain wind_direction  wind_speed       station  \n",
       "0    1023.0           -18.8   0.0            NNW         4.4  Aotizhongxin  \n",
       "1    1023.2           -18.2   0.0              N         4.7  Aotizhongxin  \n",
       "2    1023.5           -18.2   0.0            NNW         5.6  Aotizhongxin  "
      ]
     },
     "execution_count": 5,
     "metadata": {},
     "output_type": "execute_result"
    }
   ],
   "source": [
    "#view top 3 rows and recheck if column name changes have taken effect\n",
    "Data_Aotizhongxin_new.head(3)"
   ]
  },
  {
   "cell_type": "code",
   "execution_count": 6,
   "metadata": {},
   "outputs": [
    {
     "data": {
      "text/plain": [
       "No                  int64\n",
       "year                int64\n",
       "month               int64\n",
       "day                 int64\n",
       "hour                int64\n",
       "PM2.5             float64\n",
       "PM10              float64\n",
       "SO2               float64\n",
       "NO2               float64\n",
       "CO                float64\n",
       "O3                float64\n",
       " temp             float64\n",
       "pressure          float64\n",
       "dew_point_temp    float64\n",
       "rain              float64\n",
       "wind_direction     object\n",
       "wind_speed        float64\n",
       "station            object\n",
       "dtype: object"
      ]
     },
     "execution_count": 6,
     "metadata": {},
     "output_type": "execute_result"
    }
   ],
   "source": [
    "Data_Aotizhongxin_new.dtypes"
   ]
  },
  {
   "cell_type": "code",
   "execution_count": 7,
   "metadata": {},
   "outputs": [
    {
     "name": "stdout",
     "output_type": "stream",
     "text": [
      "<class 'pandas.core.frame.DataFrame'>\n",
      "RangeIndex: 35064 entries, 0 to 35063\n",
      "Data columns (total 18 columns):\n",
      " #   Column          Non-Null Count  Dtype  \n",
      "---  ------          --------------  -----  \n",
      " 0   No              35064 non-null  int64  \n",
      " 1   year            35064 non-null  int64  \n",
      " 2   month           35064 non-null  int64  \n",
      " 3   day             35064 non-null  int64  \n",
      " 4   hour            35064 non-null  int64  \n",
      " 5   PM2.5           34139 non-null  float64\n",
      " 6   PM10            34346 non-null  float64\n",
      " 7   SO2             34129 non-null  float64\n",
      " 8   NO2             34041 non-null  float64\n",
      " 9   CO              33288 non-null  float64\n",
      " 10  O3              33345 non-null  float64\n",
      " 11   temp           35044 non-null  float64\n",
      " 12  pressure        35044 non-null  float64\n",
      " 13  dew_point_temp  35044 non-null  float64\n",
      " 14  rain            35044 non-null  float64\n",
      " 15  wind_direction  34983 non-null  object \n",
      " 16  wind_speed      35050 non-null  float64\n",
      " 17  station         35064 non-null  object \n",
      "dtypes: float64(11), int64(5), object(2)\n",
      "memory usage: 4.8+ MB\n"
     ]
    }
   ],
   "source": [
    "#check the type of columns in dataframe\n",
    "Data_Aotizhongxin_new.info()"
   ]
  },
  {
   "cell_type": "markdown",
   "metadata": {},
   "source": [
    "# Merging  data sets"
   ]
  },
  {
   "cell_type": "code",
   "execution_count": 8,
   "metadata": {},
   "outputs": [],
   "source": [
    "  \n",
    "\n",
    "path =r\"c:\\Users\\nitin\\OneDrive\\Documents\\Airquality\\PRSA_Data_20130301-20170228\""
   ]
  },
  {
   "cell_type": "code",
   "execution_count": 9,
   "metadata": {},
   "outputs": [],
   "source": [
    "all_files = glob.glob(os.path.join(path, \"PRSA_*.csv\"))"
   ]
  },
  {
   "cell_type": "code",
   "execution_count": 10,
   "metadata": {},
   "outputs": [],
   "source": [
    "df_merged = (pd.read_csv(f, sep=',') for f in all_files)\n",
    "merged_csv = pd.concat( [ pd.read_csv(f) for f in all_files ] )"
   ]
  },
  {
   "cell_type": "code",
   "execution_count": 11,
   "metadata": {},
   "outputs": [],
   "source": [
    "merged_csv.to_csv( \"merged_csv.csv\", index=False )"
   ]
  },
  {
   "cell_type": "code",
   "execution_count": 12,
   "metadata": {},
   "outputs": [],
   "source": [
    "#uploading and reading merged  file.\n",
    "air_qality =pd.read_csv(\"merged_csv.csv\")"
   ]
  },
  {
   "cell_type": "code",
   "execution_count": 13,
   "metadata": {},
   "outputs": [
    {
     "data": {
      "text/html": [
       "<div>\n",
       "<style scoped>\n",
       "    .dataframe tbody tr th:only-of-type {\n",
       "        vertical-align: middle;\n",
       "    }\n",
       "\n",
       "    .dataframe tbody tr th {\n",
       "        vertical-align: top;\n",
       "    }\n",
       "\n",
       "    .dataframe thead th {\n",
       "        text-align: right;\n",
       "    }\n",
       "</style>\n",
       "<table border=\"1\" class=\"dataframe\">\n",
       "  <thead>\n",
       "    <tr style=\"text-align: right;\">\n",
       "      <th></th>\n",
       "      <th>No</th>\n",
       "      <th>year</th>\n",
       "      <th>month</th>\n",
       "      <th>day</th>\n",
       "      <th>hour</th>\n",
       "      <th>PM2.5</th>\n",
       "      <th>PM10</th>\n",
       "      <th>SO2</th>\n",
       "      <th>NO2</th>\n",
       "      <th>CO</th>\n",
       "      <th>O3</th>\n",
       "      <th>TEMP</th>\n",
       "      <th>PRES</th>\n",
       "      <th>DEWP</th>\n",
       "      <th>RAIN</th>\n",
       "      <th>wd</th>\n",
       "      <th>WSPM</th>\n",
       "      <th>station</th>\n",
       "    </tr>\n",
       "  </thead>\n",
       "  <tbody>\n",
       "    <tr>\n",
       "      <th>0</th>\n",
       "      <td>1</td>\n",
       "      <td>2013</td>\n",
       "      <td>3</td>\n",
       "      <td>1</td>\n",
       "      <td>0</td>\n",
       "      <td>4.0</td>\n",
       "      <td>4.0</td>\n",
       "      <td>4.0</td>\n",
       "      <td>7.0</td>\n",
       "      <td>300.0</td>\n",
       "      <td>77.0</td>\n",
       "      <td>-0.7</td>\n",
       "      <td>1023.0</td>\n",
       "      <td>-18.8</td>\n",
       "      <td>0.0</td>\n",
       "      <td>NNW</td>\n",
       "      <td>4.4</td>\n",
       "      <td>Aotizhongxin</td>\n",
       "    </tr>\n",
       "    <tr>\n",
       "      <th>1</th>\n",
       "      <td>2</td>\n",
       "      <td>2013</td>\n",
       "      <td>3</td>\n",
       "      <td>1</td>\n",
       "      <td>1</td>\n",
       "      <td>8.0</td>\n",
       "      <td>8.0</td>\n",
       "      <td>4.0</td>\n",
       "      <td>7.0</td>\n",
       "      <td>300.0</td>\n",
       "      <td>77.0</td>\n",
       "      <td>-1.1</td>\n",
       "      <td>1023.2</td>\n",
       "      <td>-18.2</td>\n",
       "      <td>0.0</td>\n",
       "      <td>N</td>\n",
       "      <td>4.7</td>\n",
       "      <td>Aotizhongxin</td>\n",
       "    </tr>\n",
       "    <tr>\n",
       "      <th>2</th>\n",
       "      <td>3</td>\n",
       "      <td>2013</td>\n",
       "      <td>3</td>\n",
       "      <td>1</td>\n",
       "      <td>2</td>\n",
       "      <td>7.0</td>\n",
       "      <td>7.0</td>\n",
       "      <td>5.0</td>\n",
       "      <td>10.0</td>\n",
       "      <td>300.0</td>\n",
       "      <td>73.0</td>\n",
       "      <td>-1.1</td>\n",
       "      <td>1023.5</td>\n",
       "      <td>-18.2</td>\n",
       "      <td>0.0</td>\n",
       "      <td>NNW</td>\n",
       "      <td>5.6</td>\n",
       "      <td>Aotizhongxin</td>\n",
       "    </tr>\n",
       "  </tbody>\n",
       "</table>\n",
       "</div>"
      ],
      "text/plain": [
       "   No  year  month  day  hour  PM2.5  PM10  SO2   NO2     CO    O3  TEMP  \\\n",
       "0   1  2013      3    1     0    4.0   4.0  4.0   7.0  300.0  77.0  -0.7   \n",
       "1   2  2013      3    1     1    8.0   8.0  4.0   7.0  300.0  77.0  -1.1   \n",
       "2   3  2013      3    1     2    7.0   7.0  5.0  10.0  300.0  73.0  -1.1   \n",
       "\n",
       "     PRES  DEWP  RAIN   wd  WSPM       station  \n",
       "0  1023.0 -18.8   0.0  NNW   4.4  Aotizhongxin  \n",
       "1  1023.2 -18.2   0.0    N   4.7  Aotizhongxin  \n",
       "2  1023.5 -18.2   0.0  NNW   5.6  Aotizhongxin  "
      ]
     },
     "execution_count": 13,
     "metadata": {},
     "output_type": "execute_result"
    }
   ],
   "source": [
    "# display the top 3 rows and observe the data.\n",
    "air_qality.head(3)"
   ]
  },
  {
   "cell_type": "code",
   "execution_count": 14,
   "metadata": {},
   "outputs": [],
   "source": [
    "#Rename the columns name\n",
    "air_qality1=air_qality.rename(columns={\"wd\": \"wind_direction\",\"DEWP\": \"dew_point_temp\" ,\"TEMP\": \" temp\",\"RAIN\": \"rain\",\"WSPM\":\"wind_speed\",\"PRES\":\"pressure\"})"
   ]
  },
  {
   "cell_type": "code",
   "execution_count": 15,
   "metadata": {},
   "outputs": [
    {
     "data": {
      "text/html": [
       "<div>\n",
       "<style scoped>\n",
       "    .dataframe tbody tr th:only-of-type {\n",
       "        vertical-align: middle;\n",
       "    }\n",
       "\n",
       "    .dataframe tbody tr th {\n",
       "        vertical-align: top;\n",
       "    }\n",
       "\n",
       "    .dataframe thead th {\n",
       "        text-align: right;\n",
       "    }\n",
       "</style>\n",
       "<table border=\"1\" class=\"dataframe\">\n",
       "  <thead>\n",
       "    <tr style=\"text-align: right;\">\n",
       "      <th></th>\n",
       "      <th>No</th>\n",
       "      <th>year</th>\n",
       "      <th>month</th>\n",
       "      <th>day</th>\n",
       "      <th>hour</th>\n",
       "      <th>PM2.5</th>\n",
       "      <th>PM10</th>\n",
       "      <th>SO2</th>\n",
       "      <th>NO2</th>\n",
       "      <th>CO</th>\n",
       "      <th>O3</th>\n",
       "      <th>temp</th>\n",
       "      <th>pressure</th>\n",
       "      <th>dew_point_temp</th>\n",
       "      <th>rain</th>\n",
       "      <th>wind_direction</th>\n",
       "      <th>wind_speed</th>\n",
       "      <th>station</th>\n",
       "    </tr>\n",
       "  </thead>\n",
       "  <tbody>\n",
       "    <tr>\n",
       "      <th>0</th>\n",
       "      <td>1</td>\n",
       "      <td>2013</td>\n",
       "      <td>3</td>\n",
       "      <td>1</td>\n",
       "      <td>0</td>\n",
       "      <td>4.0</td>\n",
       "      <td>4.0</td>\n",
       "      <td>4.0</td>\n",
       "      <td>7.0</td>\n",
       "      <td>300.0</td>\n",
       "      <td>77.0</td>\n",
       "      <td>-0.7</td>\n",
       "      <td>1023.0</td>\n",
       "      <td>-18.8</td>\n",
       "      <td>0.0</td>\n",
       "      <td>NNW</td>\n",
       "      <td>4.4</td>\n",
       "      <td>Aotizhongxin</td>\n",
       "    </tr>\n",
       "    <tr>\n",
       "      <th>1</th>\n",
       "      <td>2</td>\n",
       "      <td>2013</td>\n",
       "      <td>3</td>\n",
       "      <td>1</td>\n",
       "      <td>1</td>\n",
       "      <td>8.0</td>\n",
       "      <td>8.0</td>\n",
       "      <td>4.0</td>\n",
       "      <td>7.0</td>\n",
       "      <td>300.0</td>\n",
       "      <td>77.0</td>\n",
       "      <td>-1.1</td>\n",
       "      <td>1023.2</td>\n",
       "      <td>-18.2</td>\n",
       "      <td>0.0</td>\n",
       "      <td>N</td>\n",
       "      <td>4.7</td>\n",
       "      <td>Aotizhongxin</td>\n",
       "    </tr>\n",
       "    <tr>\n",
       "      <th>2</th>\n",
       "      <td>3</td>\n",
       "      <td>2013</td>\n",
       "      <td>3</td>\n",
       "      <td>1</td>\n",
       "      <td>2</td>\n",
       "      <td>7.0</td>\n",
       "      <td>7.0</td>\n",
       "      <td>5.0</td>\n",
       "      <td>10.0</td>\n",
       "      <td>300.0</td>\n",
       "      <td>73.0</td>\n",
       "      <td>-1.1</td>\n",
       "      <td>1023.5</td>\n",
       "      <td>-18.2</td>\n",
       "      <td>0.0</td>\n",
       "      <td>NNW</td>\n",
       "      <td>5.6</td>\n",
       "      <td>Aotizhongxin</td>\n",
       "    </tr>\n",
       "  </tbody>\n",
       "</table>\n",
       "</div>"
      ],
      "text/plain": [
       "   No  year  month  day  hour  PM2.5  PM10  SO2   NO2     CO    O3   temp  \\\n",
       "0   1  2013      3    1     0    4.0   4.0  4.0   7.0  300.0  77.0   -0.7   \n",
       "1   2  2013      3    1     1    8.0   8.0  4.0   7.0  300.0  77.0   -1.1   \n",
       "2   3  2013      3    1     2    7.0   7.0  5.0  10.0  300.0  73.0   -1.1   \n",
       "\n",
       "   pressure  dew_point_temp  rain wind_direction  wind_speed       station  \n",
       "0    1023.0           -18.8   0.0            NNW         4.4  Aotizhongxin  \n",
       "1    1023.2           -18.2   0.0              N         4.7  Aotizhongxin  \n",
       "2    1023.5           -18.2   0.0            NNW         5.6  Aotizhongxin  "
      ]
     },
     "execution_count": 15,
     "metadata": {},
     "output_type": "execute_result"
    }
   ],
   "source": [
    "#view top 3 rows and recheck if column name changes have taken effect\n",
    "air_qality1.head(3)"
   ]
  },
  {
   "cell_type": "code",
   "execution_count": 16,
   "metadata": {},
   "outputs": [
    {
     "name": "stdout",
     "output_type": "stream",
     "text": [
      "<class 'pandas.core.frame.DataFrame'>\n",
      "RangeIndex: 420768 entries, 0 to 420767\n",
      "Data columns (total 18 columns):\n",
      " #   Column          Non-Null Count   Dtype  \n",
      "---  ------          --------------   -----  \n",
      " 0   No              420768 non-null  int64  \n",
      " 1   year            420768 non-null  int64  \n",
      " 2   month           420768 non-null  int64  \n",
      " 3   day             420768 non-null  int64  \n",
      " 4   hour            420768 non-null  int64  \n",
      " 5   PM2.5           412029 non-null  float64\n",
      " 6   PM10            414319 non-null  float64\n",
      " 7   SO2             411747 non-null  float64\n",
      " 8   NO2             408652 non-null  float64\n",
      " 9   CO              400067 non-null  float64\n",
      " 10  O3              407491 non-null  float64\n",
      " 11   temp           420370 non-null  float64\n",
      " 12  pressure        420375 non-null  float64\n",
      " 13  dew_point_temp  420365 non-null  float64\n",
      " 14  rain            420378 non-null  float64\n",
      " 15  wind_direction  418946 non-null  object \n",
      " 16  wind_speed      420450 non-null  float64\n",
      " 17  station         420768 non-null  object \n",
      "dtypes: float64(11), int64(5), object(2)\n",
      "memory usage: 57.8+ MB\n"
     ]
    }
   ],
   "source": [
    "#check the type of columns in dataframe\n",
    "air_qality1.info()"
   ]
  },
  {
   "cell_type": "code",
   "execution_count": 17,
   "metadata": {},
   "outputs": [],
   "source": [
    "#converting  year and month type from integer to category.\n",
    "air_qality1 =air_qality1.astype({\"year\": 'category', \"month\": 'category'})"
   ]
  },
  {
   "cell_type": "code",
   "execution_count": 18,
   "metadata": {},
   "outputs": [
    {
     "data": {
      "text/plain": [
       "No                   int64\n",
       "year              category\n",
       "month             category\n",
       "day                  int64\n",
       "hour                 int64\n",
       "PM2.5              float64\n",
       "PM10               float64\n",
       "SO2                float64\n",
       "NO2                float64\n",
       "CO                 float64\n",
       "O3                 float64\n",
       " temp              float64\n",
       "pressure           float64\n",
       "dew_point_temp     float64\n",
       "rain               float64\n",
       "wind_direction      object\n",
       "wind_speed         float64\n",
       "station             object\n",
       "dtype: object"
      ]
     },
     "execution_count": 18,
     "metadata": {},
     "output_type": "execute_result"
    }
   ],
   "source": [
    "#checking level are correct\n",
    "air_qality1.dtypes"
   ]
  },
  {
   "cell_type": "code",
   "execution_count": 19,
   "metadata": {},
   "outputs": [
    {
     "data": {
      "text/plain": [
       "2016    105408\n",
       "2015    105120\n",
       "2014    105120\n",
       "2013     88128\n",
       "2017     16992\n",
       "Name: year, dtype: int64"
      ]
     },
     "execution_count": 19,
     "metadata": {},
     "output_type": "execute_result"
    }
   ],
   "source": [
    "air_qality1['year'].value_counts()"
   ]
  },
  {
   "cell_type": "code",
   "execution_count": 20,
   "metadata": {},
   "outputs": [
    {
     "data": {
      "image/png": "[encoded data removed]",
      "text/plain": [
       "<Figure size 720x360 with 1 Axes>"
      ]
     },
     "metadata": {
      "needs_background": "light"
     },
     "output_type": "display_data"
    }
   ],
   "source": [
    "op_count =air_qality1['year'].value_counts()\n",
    "plt.figure(figsize=(10,5))\n",
    "sns.barplot(op_count.index, op_count.values, alpha=0.8)\n",
    "plt.title('year summary')\n",
    "plt.ylabel('Number of Occurrences', fontsize=12)\n",
    "plt.xlabel('year', fontsize=12)\n",
    "plt.show()"
   ]
  },
  {
   "cell_type": "code",
   "execution_count": 21,
   "metadata": {},
   "outputs": [
    {
     "data": {
      "text/plain": [
       "12    35712\n",
       "10    35712\n",
       "8     35712\n",
       "7     35712\n",
       "5     35712\n",
       "3     35712\n",
       "1     35712\n",
       "11    34560\n",
       "9     34560\n",
       "6     34560\n",
       "4     34560\n",
       "2     32544\n",
       "Name: month, dtype: int64"
      ]
     },
     "execution_count": 21,
     "metadata": {},
     "output_type": "execute_result"
    }
   ],
   "source": [
    "air_qality1['month'].value_counts()"
   ]
  },
  {
   "cell_type": "code",
   "execution_count": 23,
   "metadata": {},
   "outputs": [
    {
     "data": {
      "image/png": "[encoded data removed]",
      "text/plain": [
       "<Figure size 720x360 with 1 Axes>"
      ]
     },
     "metadata": {
      "needs_background": "light"
     },
     "output_type": "display_data"
    }
   ],
   "source": [
    "op_count =air_qality1['month'].value_counts()\n",
    "plt.figure(figsize=(10,5))\n",
    "sns.barplot(op_count.index, op_count.values, alpha=0.8)\n",
    "plt.title('month summary')\n",
    "plt.ylabel('Number of Occurrences', fontsize=12)\n",
    "plt.xlabel('month', fontsize=12)\n",
    "plt.show()"
   ]
  },
  {
   "cell_type": "markdown",
   "metadata": {},
   "source": [
    "# a). Remove unnecessary columns if any\n",
    "Air quality data set  has  18 columns ,No or number column is duplicate and if we remove it,This will not impact the outcome of analysis or model building process. for other columns  we can not decide at this point as we are at intial stage of  our analysis."
   ]
  },
  {
   "cell_type": "code",
   "execution_count": 24,
   "metadata": {},
   "outputs": [],
   "source": [
    "# dropping unnecessary columns \n",
    "air_qality1.drop(['No' ], axis = 1, inplace = True)"
   ]
  },
  {
   "cell_type": "code",
   "execution_count": 25,
   "metadata": {},
   "outputs": [
    {
     "data": {
      "text/plain": [
       "(420768, 17)"
      ]
     },
     "execution_count": 25,
     "metadata": {},
     "output_type": "execute_result"
    }
   ],
   "source": [
    "air_qality1.shape"
   ]
  },
  {
   "cell_type": "code",
   "execution_count": 26,
   "metadata": {},
   "outputs": [
    {
     "name": "stdout",
     "output_type": "stream",
     "text": [
      "<class 'pandas.core.frame.DataFrame'>\n",
      "RangeIndex: 420768 entries, 0 to 420767\n",
      "Data columns (total 17 columns):\n",
      " #   Column          Non-Null Count   Dtype   \n",
      "---  ------          --------------   -----   \n",
      " 0   year            420768 non-null  category\n",
      " 1   month           420768 non-null  category\n",
      " 2   day             420768 non-null  int64   \n",
      " 3   hour            420768 non-null  int64   \n",
      " 4   PM2.5           412029 non-null  float64 \n",
      " 5   PM10            414319 non-null  float64 \n",
      " 6   SO2             411747 non-null  float64 \n",
      " 7   NO2             408652 non-null  float64 \n",
      " 8   CO              400067 non-null  float64 \n",
      " 9   O3              407491 non-null  float64 \n",
      " 10   temp           420370 non-null  float64 \n",
      " 11  pressure        420375 non-null  float64 \n",
      " 12  dew_point_temp  420365 non-null  float64 \n",
      " 13  rain            420378 non-null  float64 \n",
      " 14  wind_direction  418946 non-null  object  \n",
      " 15  wind_speed      420450 non-null  float64 \n",
      " 16  station         420768 non-null  object  \n",
      "dtypes: category(2), float64(11), int64(2), object(2)\n",
      "memory usage: 49.0+ MB\n"
     ]
    }
   ],
   "source": [
    "#To check data set information\n",
    "air_qality1.info()"
   ]
  },
  {
   "cell_type": "markdown",
   "metadata": {},
   "source": [
    "# Treatment of missing values\n",
    "b). Count NANs(Target variable PM2.5 could contain NANs) in merged dataframe. Explain how to handle them and why did you choose this way to handle them?"
   ]
  },
  {
   "cell_type": "code",
   "execution_count": 27,
   "metadata": {},
   "outputs": [
    {
     "data": {
      "text/plain": [
       "year                  0\n",
       "month                 0\n",
       "day                   0\n",
       "hour                  0\n",
       "PM2.5              8739\n",
       "PM10               6449\n",
       "SO2                9021\n",
       "NO2               12116\n",
       "CO                20701\n",
       "O3                13277\n",
       " temp               398\n",
       "pressure            393\n",
       "dew_point_temp      403\n",
       "rain                390\n",
       "wind_direction     1822\n",
       "wind_speed          318\n",
       "station               0\n",
       "dtype: int64"
      ]
     },
     "execution_count": 27,
     "metadata": {},
     "output_type": "execute_result"
    }
   ],
   "source": [
    "#check for missing values \n",
    "air_qality1.isnull().sum()"
   ]
  },
  {
   "cell_type": "code",
   "execution_count": 28,
   "metadata": {},
   "outputs": [
    {
     "data": {
      "text/plain": [
       "year              0.0\n",
       "month             0.0\n",
       "day               0.0\n",
       "hour              0.0\n",
       "PM2.5             2.0\n",
       "PM10              2.0\n",
       "SO2               2.0\n",
       "NO2               3.0\n",
       "CO                5.0\n",
       "O3                3.0\n",
       " temp             0.0\n",
       "pressure          0.0\n",
       "dew_point_temp    0.0\n",
       "rain              0.0\n",
       "wind_direction    0.0\n",
       "wind_speed        0.0\n",
       "station           0.0\n",
       "dtype: float64"
      ]
     },
     "execution_count": 28,
     "metadata": {},
     "output_type": "execute_result"
    }
   ],
   "source": [
    "# percentage of missing values in each column\n",
    "round(air_qality1.isnull().sum()/len(air_qality1.index), 2)*100"
   ]
  },
  {
   "cell_type": "markdown",
   "metadata": {},
   "source": [
    "#when preparing data for machine learning algorithm we must remove or replace missing value its must for ML algorithm to work. we can replace missing value by imputing median or we can simply drop/remove them. I drop missing value from data set instead of  replacing with median because  in PM2.5 its 2 % and in maximum if we remove all missing value, we will lose 5% data points and still left with 95% data  points.\n",
    "I will not use median because I do not want to overfit the data. this data set is big data set with enough data points to build a model and to perform the analysis.\n"
   ]
  },
  {
   "cell_type": "code",
   "execution_count": 29,
   "metadata": {},
   "outputs": [],
   "source": [
    "#remoivng missing values\n",
    "air_qalityf = air_qality1.dropna()\n"
   ]
  },
  {
   "cell_type": "code",
   "execution_count": 30,
   "metadata": {},
   "outputs": [
    {
     "data": {
      "text/plain": [
       "year              0\n",
       "month             0\n",
       "day               0\n",
       "hour              0\n",
       "PM2.5             0\n",
       "PM10              0\n",
       "SO2               0\n",
       "NO2               0\n",
       "CO                0\n",
       "O3                0\n",
       " temp             0\n",
       "pressure          0\n",
       "dew_point_temp    0\n",
       "rain              0\n",
       "wind_direction    0\n",
       "wind_speed        0\n",
       "station           0\n",
       "dtype: int64"
      ]
     },
     "execution_count": 30,
     "metadata": {},
     "output_type": "execute_result"
    }
   ],
   "source": [
    "#Again checking for missing values\n",
    "air_qalityf.isnull().sum()\n"
   ]
  },
  {
   "cell_type": "code",
   "execution_count": 31,
   "metadata": {},
   "outputs": [
    {
     "name": "stdout",
     "output_type": "stream",
     "text": [
      "<class 'pandas.core.frame.DataFrame'>\n",
      "Int64Index: 382168 entries, 0 to 420767\n",
      "Data columns (total 17 columns):\n",
      " #   Column          Non-Null Count   Dtype   \n",
      "---  ------          --------------   -----   \n",
      " 0   year            382168 non-null  category\n",
      " 1   month           382168 non-null  category\n",
      " 2   day             382168 non-null  int64   \n",
      " 3   hour            382168 non-null  int64   \n",
      " 4   PM2.5           382168 non-null  float64 \n",
      " 5   PM10            382168 non-null  float64 \n",
      " 6   SO2             382168 non-null  float64 \n",
      " 7   NO2             382168 non-null  float64 \n",
      " 8   CO              382168 non-null  float64 \n",
      " 9   O3              382168 non-null  float64 \n",
      " 10   temp           382168 non-null  float64 \n",
      " 11  pressure        382168 non-null  float64 \n",
      " 12  dew_point_temp  382168 non-null  float64 \n",
      " 13  rain            382168 non-null  float64 \n",
      " 14  wind_direction  382168 non-null  object  \n",
      " 15  wind_speed      382168 non-null  float64 \n",
      " 16  station         382168 non-null  object  \n",
      "dtypes: category(2), float64(11), int64(2), object(2)\n",
      "memory usage: 47.4+ MB\n"
     ]
    }
   ],
   "source": [
    "#check the type of columns in dataframe\n",
    "air_qalityf.info()"
   ]
  },
  {
   "cell_type": "markdown",
   "metadata": {},
   "source": [
    "# point plot of month on x-axis(label them as Jan,feb,march..) and PM2.5 levels on y-axis by month"
   ]
  },
  {
   "cell_type": "code",
   "execution_count": 32,
   "metadata": {},
   "outputs": [
    {
     "name": "stderr",
     "output_type": "stream",
     "text": [
      "C:\\ProgramData\\Anaconda3\\lib\\site-packages\\pandas\\core\\generic.py:6746: SettingWithCopyWarning: \n",
      "A value is trying to be set on a copy of a slice from a DataFrame\n",
      "\n",
      "See the caveats in the documentation: https://pandas.pydata.org/pandas-docs/stable/user_guide/indexing.html#returning-a-view-versus-a-copy\n",
      "  self._update_inplace(new_data)\n"
     ]
    }
   ],
   "source": [
    "#first lebeling month as jan ,feb ...in place of 1,2,3.\n",
    "\n",
    "air_qalityf.month.replace([1,2,3,4,5,6,7,8,9,10,11,12], ['Jan', 'Feb','Mar','Apr','May','Jun','Jul','Aug','Sep','Oct','Nov','Dec'], inplace=True)"
   ]
  },
  {
   "cell_type": "code",
   "execution_count": 33,
   "metadata": {},
   "outputs": [
    {
     "data": {
      "text/plain": [
       "Mar    33536\n",
       "Aug    33363\n",
       "Jan    33312\n",
       "Apr    31920\n",
       "Oct    31918\n",
       "May    31799\n",
       "Jul    31584\n",
       "Sep    31294\n",
       "Nov    31238\n",
       "Dec    31234\n",
       "Jun    31198\n",
       "Feb    29772\n",
       "Name: month, dtype: int64"
      ]
     },
     "execution_count": 33,
     "metadata": {},
     "output_type": "execute_result"
    }
   ],
   "source": [
    "#checking for month value\n",
    "air_qalityf['month'].value_counts()"
   ]
  },
  {
   "cell_type": "code",
   "execution_count": 34,
   "metadata": {},
   "outputs": [
    {
     "data": {
      "text/plain": [
       "<matplotlib.axes._subplots.AxesSubplot at 0x1f1420c5808>"
      ]
     },
     "execution_count": 34,
     "metadata": {},
     "output_type": "execute_result"
    },
    {
     "data": {
      "image/png": "[encoded data removed]",
      "text/plain": [
       "<Figure size 1080x360 with 1 Axes>"
      ]
     },
     "metadata": {
      "needs_background": "light"
     },
     "output_type": "display_data"
    }
   ],
   "source": [
    "#creating point plot for PM2.5 value grouped by month.\n",
    "custom_dict = {'Jan':0, 'Feb':1,'Mar':2,'Apr':3,'May':4,'Jun':5,'Jul':6,'Aug':7,'Sep':8,'Oct':9,'Nov':10,'Dec':11}\n",
    "df = air_qalityf[['PM2.5','month']].groupby([\"month\"]).mean().reset_index().sort_values(by='month',ascending=True)\n",
    "df = df.iloc[df['month'].map(custom_dict).argsort()]\n",
    "f,ax=plt.subplots(figsize=(15,5))\n",
    "plt.title(\"Point plot  level of PM2.5 by month\")\n",
    "sns.pointplot(x='month', y='PM2.5', data=df)"
   ]
  },
  {
   "cell_type": "markdown",
   "metadata": {},
   "source": [
    "##As we can see that PM2.5 level mean value for 2013 to 2017 highest for month Dec and minimum for the month of Aug. We can see a trend that from oct to March PM2.5 level is high as compared to month April to Sep."
   ]
  },
  {
   "cell_type": "markdown",
   "metadata": {},
   "source": [
    "# d). Do a box plot to observe the density of target data and interpret the plot."
   ]
  },
  {
   "cell_type": "code",
   "execution_count": 35,
   "metadata": {},
   "outputs": [
    {
     "data": {
      "image/png": "[encoded data removed]",
      "text/plain": [
       "<Figure size 432x288 with 1 Axes>"
      ]
     },
     "metadata": {
      "needs_background": "light"
     },
     "output_type": "display_data"
    }
   ],
   "source": [
    "import seaborn as sns\n",
    "import matplotlib.pyplot as plt\n",
    "\n",
    "from pandas.plotting import scatter_matrix\n",
    "\n",
    "sns.boxplot(air_qalityf [\"PM2.5\"],palette=\"gist_rainbow\")\n",
    "plt.title(\"BOX plot  level of PM2.5\")\n",
    "\n",
    "plt.show()"
   ]
  },
  {
   "cell_type": "markdown",
   "metadata": {},
   "source": [
    "Box plot of target data PM2.5 shows that data is not normally distributed, \n",
    "it is right skewed. and long heavy tail represent that many outliers present in data. \n",
    "If the boxplot shows outliers at the upper range of the data (above the box), the mean (+) \n",
    "value is above the median (the center line in the box), the median line does not evenly \n",
    "divide the box, and the upper tail of the boxplot is longer than the lower tail, \n",
    "then the data distribution  may be skewed to the right. "
   ]
  },
  {
   "cell_type": "markdown",
   "metadata": {},
   "source": [
    "# Plot the distribution of the target data and interpret it."
   ]
  },
  {
   "cell_type": "code",
   "execution_count": 36,
   "metadata": {},
   "outputs": [
    {
     "data": {
      "image/png": "[encoded data removed]",
      "text/plain": [
       "<Figure size 576x360 with 1 Axes>"
      ]
     },
     "metadata": {},
     "output_type": "display_data"
    }
   ],
   "source": [
    "     #histogram of PM2.5  to see the distribution of data points.  \n",
    "     sns.set(style='whitegrid', palette=\"Dark2_r\", font_scale=1.1, rc={\"figure.figsize\": [8, 5]})\n",
    "sns.distplot(\n",
    "  air_qalityf   ['PM2.5'], norm_hist=False, kde=False, bins=20, hist_kws={\"alpha\": 1}\n",
    "\n",
    ").set(xlabel='PM2.5', ylabel='Count');"
   ]
  },
  {
   "cell_type": "markdown",
   "metadata": {},
   "source": [
    "#histogram of target data show that distribution is right skewed \n",
    "and not normally distributed which may result in higher mean value as compared to median and mode.\n",
    "In case of normal distribution, the mean, median and model are approximately closer.\n",
    "A log transformation can help to fit a very skewed distribution into a Gaussian one.\n",
    "But if we log transform response variable, we must transform feature variable also "
   ]
  },
  {
   "cell_type": "markdown",
   "metadata": {},
   "source": [
    "# Checking the correlations between the independent variables and mention the strongest one.\n",
    "#multicollinearity is when two or more independent variables in a regression are highly related to one another.To check to correlation between independent variable we can use two methods, First is VIF where VIF value of 1 indicates two variables are not correlated, a VIF between 1 and 5 indicates moderate correlation, and a VIF above 5 indicates high correlation. NO2, co,pressure and PM10 value are above 5  which shows they are positivly  highly correlated with one another. \n",
    "Second is correlation matrix where 1 indicates a perfectly negative linear correlation between two variables\n",
    "•\t0 indicates no linear correlation between two variables\n",
    "•\t1 indicates a perfectly positive linear correlation between two variables\n",
    "The further away the correlation coefficient is from zero, the stronger the relationship between the two variables.\n",
    "From correlation matrix we can predict that NO2, CO and PM10, CO, pressure and wind speed are related to each other positively. \n",
    "Pressure and temp and dew_point_temp and pressure negatively related to each other. \n",
    "\n",
    "The potential solutions include the following:\n",
    "Remove some of the highly correlated independent variables.\n",
    "Linearly combine the independent variables, such as adding them together.\\\n",
    "Perform an analysis designed for highly correlated variables, such as principal components analysis or partial least squares regression.\n",
    "\n"
   ]
  },
  {
   "cell_type": "code",
   "execution_count": 37,
   "metadata": {},
   "outputs": [
    {
     "name": "stdout",
     "output_type": "stream",
     "text": [
      "          variable        VIF\n",
      "0              day   4.208219\n",
      "1             hour   4.334161\n",
      "2             PM10   5.826941\n",
      "3              SO2   2.602152\n",
      "4              NO2   9.867499\n",
      "5               CO   5.825886\n",
      "6               O3   3.912503\n",
      "7         pressure  15.140005\n",
      "8   dew_point_temp   1.640910\n",
      "9             rain   1.020807\n",
      "10      wind_speed   4.451396\n"
     ]
    }
   ],
   "source": [
    "from statsmodels.stats.outliers_influence import variance_inflation_factor \n",
    "  # the independent variables set \n",
    "X = air_qalityf[[ 'day','hour','PM10','SO2', 'NO2','CO','O3','pressure','dew_point_temp','rain','wind_speed']]\n",
    "  \n",
    "# VIF dataframe \n",
    "vif_data = pd.DataFrame() \n",
    "vif_data[\"variable\"] = X.columns \n",
    "  \n",
    "# calculating VIF for each feature \n",
    "vif_data[\"VIF\"] = [variance_inflation_factor(X.values, i) \n",
    "                          for i in range(len(X.columns))] \n",
    "  \n",
    "print(vif_data)"
   ]
  },
  {
   "cell_type": "code",
   "execution_count": 38,
   "metadata": {},
   "outputs": [
    {
     "name": "stdout",
     "output_type": "stream",
     "text": [
      "                     day      hour      PM10       SO2       NO2        CO  \\\n",
      "day             1.000000 -0.002153  0.024428 -0.006733  0.013503 -0.017784   \n",
      "hour           -0.002153  1.000000  0.051421  0.032342 -0.002536 -0.030150   \n",
      "PM10            0.024428  0.051421  1.000000  0.466561  0.653577  0.703535   \n",
      "SO2            -0.006733  0.032342  0.466561  1.000000  0.501317  0.535289   \n",
      "NO2             0.013503 -0.002536  0.653577  0.501317  1.000000  0.705651   \n",
      "CO             -0.017784 -0.030150  0.703535  0.535289  0.705651  1.000000   \n",
      "O3             -0.001101  0.281204 -0.114345 -0.167093 -0.476812 -0.315060   \n",
      " temp           0.012243  0.139155 -0.094793 -0.320991 -0.276387 -0.323402   \n",
      "pressure        0.022391 -0.038386 -0.021942  0.218994  0.172287  0.183800   \n",
      "dew_point_temp  0.024001 -0.012506  0.072706 -0.266446 -0.028276 -0.054173   \n",
      "rain           -0.002783  0.012610 -0.026885 -0.040618 -0.043946 -0.013302   \n",
      "wind_speed     -0.013504  0.137995 -0.185789 -0.109259 -0.402566 -0.297760   \n",
      "\n",
      "                      O3      temp  pressure  dew_point_temp      rain  \\\n",
      "day            -0.001101  0.012243  0.022391        0.024001 -0.002783   \n",
      "hour            0.281204  0.139155 -0.038386       -0.012506  0.012610   \n",
      "PM10           -0.114345 -0.094793 -0.021942        0.072706 -0.026885   \n",
      "SO2            -0.167093 -0.320991  0.218994       -0.266446 -0.040618   \n",
      "NO2            -0.476812 -0.276387  0.172287       -0.028276 -0.043946   \n",
      "CO             -0.315060 -0.323402  0.183800       -0.054173 -0.013302   \n",
      "O3              1.000000  0.597098 -0.447437        0.313267  0.023194   \n",
      " temp           0.597098  1.000000 -0.812456        0.820672  0.037182   \n",
      "pressure       -0.447437 -0.812456  1.000000       -0.750758 -0.060999   \n",
      "dew_point_temp  0.313267  0.820672 -0.750758        1.000000  0.086424   \n",
      "rain            0.023194  0.037182 -0.060999        0.086424  1.000000   \n",
      "wind_speed      0.296714  0.026664  0.072249       -0.299137  0.021866   \n",
      "\n",
      "                wind_speed  \n",
      "day              -0.013504  \n",
      "hour              0.137995  \n",
      "PM10             -0.185789  \n",
      "SO2              -0.109259  \n",
      "NO2              -0.402566  \n",
      "CO               -0.297760  \n",
      "O3                0.296714  \n",
      " temp             0.026664  \n",
      "pressure          0.072249  \n",
      "dew_point_temp   -0.299137  \n",
      "rain              0.021866  \n",
      "wind_speed        1.000000  \n"
     ]
    }
   ],
   "source": [
    "# drop by PM2.5 column to draw correlation matrix of independent variable\n",
    "df1 = air_qalityf.drop(['PM2.5'], axis=1)\n",
    "corr_matrix=df1.corr()\n",
    "print(corr_matrix)"
   ]
  },
  {
   "cell_type": "code",
   "execution_count": 39,
   "metadata": {},
   "outputs": [
    {
     "data": {
      "text/plain": [
       "<matplotlib.axes._subplots.AxesSubplot at 0x1f144cd9e88>"
      ]
     },
     "execution_count": 39,
     "metadata": {},
     "output_type": "execute_result"
    },
    {
     "data": {
      "image/png": "[encoded data removed]",
      "text/plain": [
       "<Figure size 720x720 with 2 Axes>"
      ]
     },
     "metadata": {},
     "output_type": "display_data"
    }
   ],
   "source": [
    "#plotting a correlation matrix\n",
    "plt.figure(figsize=(10,10))\n",
    "plt.title(\"Correlation matrix of independent variable air quality\")\n",
    "plt.xlabel(\"df1 columns\")\n",
    "plt.ylabel(\"df1 columns\")\n",
    "sns.heatmap(df1.corr(), annot = True, vmin=-1, vmax=1, center= 0,cmap=\"gist_ncar_r\")\n",
    "\n"
   ]
  },
  {
   "cell_type": "markdown",
   "metadata": {},
   "source": [
    "# b). Find and remove the outliers to bring the mean and standard deviation closer to each other."
   ]
  },
  {
   "cell_type": "code",
   "execution_count": 40,
   "metadata": {},
   "outputs": [
    {
     "name": "stdout",
     "output_type": "stream",
     "text": [
      "PM2.5    91.0\n",
      "dtype: float64\n"
     ]
    }
   ],
   "source": [
    "#finding outliers, creating a dataframe of single column of PM2.5.\n",
    "df2 = pd.DataFrame(air_qalityf, columns = ['PM2.5'])\n",
    "# Calculation of IQR:\n",
    "Q1=df2.quantile(0.25)\n",
    "Q3=df2.quantile(0.75)\n",
    "IQR=Q3-Q1\n",
    "print(IQR)"
   ]
  },
  {
   "cell_type": "code",
   "execution_count": 41,
   "metadata": {},
   "outputs": [
    {
     "name": "stdout",
     "output_type": "stream",
     "text": [
      "        PM2.5\n",
      "0       False\n",
      "1       False\n",
      "2       False\n",
      "3       False\n",
      "4       False\n",
      "...       ...\n",
      "420763  False\n",
      "420764  False\n",
      "420765  False\n",
      "420766  False\n",
      "420767  False\n",
      "\n",
      "[382168 rows x 1 columns]\n"
     ]
    },
    {
     "data": {
      "text/html": [
       "<div>\n",
       "<style scoped>\n",
       "    .dataframe tbody tr th:only-of-type {\n",
       "        vertical-align: middle;\n",
       "    }\n",
       "\n",
       "    .dataframe tbody tr th {\n",
       "        vertical-align: top;\n",
       "    }\n",
       "\n",
       "    .dataframe thead th {\n",
       "        text-align: right;\n",
       "    }\n",
       "</style>\n",
       "<table border=\"1\" class=\"dataframe\">\n",
       "  <thead>\n",
       "    <tr style=\"text-align: right;\">\n",
       "      <th></th>\n",
       "      <th>PM2.5</th>\n",
       "    </tr>\n",
       "  </thead>\n",
       "  <tbody>\n",
       "    <tr>\n",
       "      <th>0</th>\n",
       "      <td>False</td>\n",
       "    </tr>\n",
       "    <tr>\n",
       "      <th>1</th>\n",
       "      <td>False</td>\n",
       "    </tr>\n",
       "    <tr>\n",
       "      <th>2</th>\n",
       "      <td>False</td>\n",
       "    </tr>\n",
       "    <tr>\n",
       "      <th>3</th>\n",
       "      <td>False</td>\n",
       "    </tr>\n",
       "    <tr>\n",
       "      <th>4</th>\n",
       "      <td>False</td>\n",
       "    </tr>\n",
       "    <tr>\n",
       "      <th>...</th>\n",
       "      <td>...</td>\n",
       "    </tr>\n",
       "    <tr>\n",
       "      <th>420763</th>\n",
       "      <td>False</td>\n",
       "    </tr>\n",
       "    <tr>\n",
       "      <th>420764</th>\n",
       "      <td>False</td>\n",
       "    </tr>\n",
       "    <tr>\n",
       "      <th>420765</th>\n",
       "      <td>False</td>\n",
       "    </tr>\n",
       "    <tr>\n",
       "      <th>420766</th>\n",
       "      <td>False</td>\n",
       "    </tr>\n",
       "    <tr>\n",
       "      <th>420767</th>\n",
       "      <td>False</td>\n",
       "    </tr>\n",
       "  </tbody>\n",
       "</table>\n",
       "<p>382168 rows × 1 columns</p>\n",
       "</div>"
      ],
      "text/plain": [
       "        PM2.5\n",
       "0       False\n",
       "1       False\n",
       "2       False\n",
       "3       False\n",
       "4       False\n",
       "...       ...\n",
       "420763  False\n",
       "420764  False\n",
       "420765  False\n",
       "420766  False\n",
       "420767  False\n",
       "\n",
       "[382168 rows x 1 columns]"
      ]
     },
     "execution_count": 41,
     "metadata": {},
     "output_type": "execute_result"
    }
   ],
   "source": [
    "# PM2.5 detecting outliers with IQR, TRUE=outliers, FALSE=valid data\n",
    "print(df2<(Q1-1.5*IQR))\n",
    "(df2>(Q3+1.5*IQR))"
   ]
  },
  {
   "cell_type": "code",
   "execution_count": 42,
   "metadata": {},
   "outputs": [
    {
     "data": {
      "text/plain": [
       "(364530, 1)"
      ]
     },
     "execution_count": 42,
     "metadata": {},
     "output_type": "execute_result"
    }
   ],
   "source": [
    "# Removing Outliers:\n",
    "df_PM = df2[~((df2< (Q1 - 1.5 * IQR)) |(df2> (Q3 + 1.5 * IQR))).any(axis=1)]\n",
    "df_PM.shape"
   ]
  },
  {
   "cell_type": "code",
   "execution_count": 43,
   "metadata": {},
   "outputs": [
    {
     "data": {
      "image/png": "[encoded data removed]",
      "text/plain": [
       "<Figure size 576x360 with 1 Axes>"
      ]
     },
     "metadata": {},
     "output_type": "display_data"
    }
   ],
   "source": [
    "sns.boxplot(df_PM ,palette=\"magma\")\n",
    "plt.title(\"BOX plot  level of PM2.5\")\n",
    "\n",
    "plt.show()"
   ]
  },
  {
   "cell_type": "code",
   "execution_count": 44,
   "metadata": {},
   "outputs": [
    {
     "data": {
      "image/png": "[encoded data removed]",
      "text/plain": [
       "<Figure size 576x360 with 1 Axes>"
      ]
     },
     "metadata": {},
     "output_type": "display_data"
    }
   ],
   "source": [
    "sns.set(style='whitegrid', palette=\"prism_r\", font_scale=1.1, rc={\"figure.figsize\": [8, 5]})\n",
    "sns.distplot(\n",
    " df_PM , norm_hist=False, kde=False, bins=20, hist_kws={\"alpha\": 1}\n",
    "\n",
    ").set(xlabel='PM2.5', ylabel='Count');"
   ]
  },
  {
   "cell_type": "markdown",
   "metadata": {},
   "source": [
    "# Find out the highest hour pollution level(PM2.5)(specify what hour or hours has high PM2.5 levels) in years 2013 and 2017 and generate a plot to show it."
   ]
  },
  {
   "cell_type": "markdown",
   "metadata": {},
   "source": [
    "First we should create two  seprate dataframe for year 2017 and 2013 respectively, then using head to check it Been created correctly. then by using groupby for grouping values of PM2.5 by hour using mean aggregate function we will do a point plot.\n",
    "2017 - PM2.5 values are highest for "
   ]
  },
  {
   "cell_type": "code",
   "execution_count": 45,
   "metadata": {},
   "outputs": [],
   "source": [
    "df_2017 = air_qalityf[air_qalityf['year']==2017]"
   ]
  },
  {
   "cell_type": "code",
   "execution_count": 46,
   "metadata": {},
   "outputs": [
    {
     "data": {
      "text/html": [
       "<div>\n",
       "<style scoped>\n",
       "    .dataframe tbody tr th:only-of-type {\n",
       "        vertical-align: middle;\n",
       "    }\n",
       "\n",
       "    .dataframe tbody tr th {\n",
       "        vertical-align: top;\n",
       "    }\n",
       "\n",
       "    .dataframe thead th {\n",
       "        text-align: right;\n",
       "    }\n",
       "</style>\n",
       "<table border=\"1\" class=\"dataframe\">\n",
       "  <thead>\n",
       "    <tr style=\"text-align: right;\">\n",
       "      <th></th>\n",
       "      <th>year</th>\n",
       "      <th>month</th>\n",
       "      <th>day</th>\n",
       "      <th>hour</th>\n",
       "      <th>PM2.5</th>\n",
       "      <th>PM10</th>\n",
       "      <th>SO2</th>\n",
       "      <th>NO2</th>\n",
       "      <th>CO</th>\n",
       "      <th>O3</th>\n",
       "      <th>temp</th>\n",
       "      <th>pressure</th>\n",
       "      <th>dew_point_temp</th>\n",
       "      <th>rain</th>\n",
       "      <th>wind_direction</th>\n",
       "      <th>wind_speed</th>\n",
       "      <th>station</th>\n",
       "    </tr>\n",
       "  </thead>\n",
       "  <tbody>\n",
       "    <tr>\n",
       "      <th>33648</th>\n",
       "      <td>2017</td>\n",
       "      <td>Jan</td>\n",
       "      <td>1</td>\n",
       "      <td>0</td>\n",
       "      <td>485.0</td>\n",
       "      <td>496.0</td>\n",
       "      <td>8.0</td>\n",
       "      <td>121.0</td>\n",
       "      <td>6100.0</td>\n",
       "      <td>4.0</td>\n",
       "      <td>-4.7</td>\n",
       "      <td>1022.1</td>\n",
       "      <td>-6.1</td>\n",
       "      <td>0.0</td>\n",
       "      <td>ENE</td>\n",
       "      <td>1.0</td>\n",
       "      <td>Aotizhongxin</td>\n",
       "    </tr>\n",
       "    <tr>\n",
       "      <th>33649</th>\n",
       "      <td>2017</td>\n",
       "      <td>Jan</td>\n",
       "      <td>1</td>\n",
       "      <td>1</td>\n",
       "      <td>477.0</td>\n",
       "      <td>497.0</td>\n",
       "      <td>7.0</td>\n",
       "      <td>113.0</td>\n",
       "      <td>6300.0</td>\n",
       "      <td>4.0</td>\n",
       "      <td>-5.2</td>\n",
       "      <td>1022.3</td>\n",
       "      <td>-6.4</td>\n",
       "      <td>0.0</td>\n",
       "      <td>E</td>\n",
       "      <td>0.7</td>\n",
       "      <td>Aotizhongxin</td>\n",
       "    </tr>\n",
       "    <tr>\n",
       "      <th>33650</th>\n",
       "      <td>2017</td>\n",
       "      <td>Jan</td>\n",
       "      <td>1</td>\n",
       "      <td>2</td>\n",
       "      <td>454.0</td>\n",
       "      <td>469.0</td>\n",
       "      <td>7.0</td>\n",
       "      <td>111.0</td>\n",
       "      <td>6200.0</td>\n",
       "      <td>4.0</td>\n",
       "      <td>-5.4</td>\n",
       "      <td>1022.5</td>\n",
       "      <td>-6.5</td>\n",
       "      <td>0.0</td>\n",
       "      <td>ENE</td>\n",
       "      <td>1.1</td>\n",
       "      <td>Aotizhongxin</td>\n",
       "    </tr>\n",
       "    <tr>\n",
       "      <th>33651</th>\n",
       "      <td>2017</td>\n",
       "      <td>Jan</td>\n",
       "      <td>1</td>\n",
       "      <td>3</td>\n",
       "      <td>418.0</td>\n",
       "      <td>425.0</td>\n",
       "      <td>6.0</td>\n",
       "      <td>109.0</td>\n",
       "      <td>5900.0</td>\n",
       "      <td>3.0</td>\n",
       "      <td>-5.2</td>\n",
       "      <td>1022.5</td>\n",
       "      <td>-6.2</td>\n",
       "      <td>0.0</td>\n",
       "      <td>E</td>\n",
       "      <td>1.1</td>\n",
       "      <td>Aotizhongxin</td>\n",
       "    </tr>\n",
       "    <tr>\n",
       "      <th>33652</th>\n",
       "      <td>2017</td>\n",
       "      <td>Jan</td>\n",
       "      <td>1</td>\n",
       "      <td>4</td>\n",
       "      <td>438.0</td>\n",
       "      <td>468.0</td>\n",
       "      <td>10.0</td>\n",
       "      <td>123.0</td>\n",
       "      <td>7700.0</td>\n",
       "      <td>16.0</td>\n",
       "      <td>-5.0</td>\n",
       "      <td>1021.9</td>\n",
       "      <td>-5.8</td>\n",
       "      <td>0.0</td>\n",
       "      <td>ENE</td>\n",
       "      <td>1.0</td>\n",
       "      <td>Aotizhongxin</td>\n",
       "    </tr>\n",
       "  </tbody>\n",
       "</table>\n",
       "</div>"
      ],
      "text/plain": [
       "       year month  day  hour  PM2.5   PM10   SO2    NO2      CO    O3   temp  \\\n",
       "33648  2017   Jan    1     0  485.0  496.0   8.0  121.0  6100.0   4.0   -4.7   \n",
       "33649  2017   Jan    1     1  477.0  497.0   7.0  113.0  6300.0   4.0   -5.2   \n",
       "33650  2017   Jan    1     2  454.0  469.0   7.0  111.0  6200.0   4.0   -5.4   \n",
       "33651  2017   Jan    1     3  418.0  425.0   6.0  109.0  5900.0   3.0   -5.2   \n",
       "33652  2017   Jan    1     4  438.0  468.0  10.0  123.0  7700.0  16.0   -5.0   \n",
       "\n",
       "       pressure  dew_point_temp  rain wind_direction  wind_speed       station  \n",
       "33648    1022.1            -6.1   0.0            ENE         1.0  Aotizhongxin  \n",
       "33649    1022.3            -6.4   0.0              E         0.7  Aotizhongxin  \n",
       "33650    1022.5            -6.5   0.0            ENE         1.1  Aotizhongxin  \n",
       "33651    1022.5            -6.2   0.0              E         1.1  Aotizhongxin  \n",
       "33652    1021.9            -5.8   0.0            ENE         1.0  Aotizhongxin  "
      ]
     },
     "execution_count": 46,
     "metadata": {},
     "output_type": "execute_result"
    }
   ],
   "source": [
    "df_2017.head()"
   ]
  },
  {
   "cell_type": "code",
   "execution_count": 47,
   "metadata": {},
   "outputs": [
    {
     "data": {
      "text/plain": [
       "<matplotlib.axes._subplots.AxesSubplot at 0x1f14214c288>"
      ]
     },
     "execution_count": 47,
     "metadata": {},
     "output_type": "execute_result"
    },
    {
     "data": {
      "image/png": "[encoded data removed]",
      "text/plain": [
       "<Figure size 1080x360 with 1 Axes>"
      ]
     },
     "metadata": {},
     "output_type": "display_data"
    }
   ],
   "source": [
    "df = df_2017[['PM2.5','hour',]].groupby([\"hour\"]).mean().reset_index().sort_values(by='hour',ascending=False)\n",
    "f,ax=plt.subplots(figsize=(15,5))\n",
    "sns.pointplot(x='hour', y='PM2.5', data=df)"
   ]
  },
  {
   "cell_type": "markdown",
   "metadata": {},
   "source": [
    "#2017 point plot of mean PM2.5 shows that highest level or peak  of PM2.5 is at 0 hour and 1 or hour or morning time  where as from 1 am  to 15 pm every hour its value goes on decreasing  and from 15 pm to 1 am every hour it level goes up.and it follows the same pattern every day in year of 2017 data."
   ]
  },
  {
   "cell_type": "code",
   "execution_count": 48,
   "metadata": {},
   "outputs": [],
   "source": [
    "df_2013 = air_qalityf[air_qalityf['year']==2013]"
   ]
  },
  {
   "cell_type": "code",
   "execution_count": 49,
   "metadata": {},
   "outputs": [
    {
     "data": {
      "text/html": [
       "<div>\n",
       "<style scoped>\n",
       "    .dataframe tbody tr th:only-of-type {\n",
       "        vertical-align: middle;\n",
       "    }\n",
       "\n",
       "    .dataframe tbody tr th {\n",
       "        vertical-align: top;\n",
       "    }\n",
       "\n",
       "    .dataframe thead th {\n",
       "        text-align: right;\n",
       "    }\n",
       "</style>\n",
       "<table border=\"1\" class=\"dataframe\">\n",
       "  <thead>\n",
       "    <tr style=\"text-align: right;\">\n",
       "      <th></th>\n",
       "      <th>year</th>\n",
       "      <th>month</th>\n",
       "      <th>day</th>\n",
       "      <th>hour</th>\n",
       "      <th>PM2.5</th>\n",
       "      <th>PM10</th>\n",
       "      <th>SO2</th>\n",
       "      <th>NO2</th>\n",
       "      <th>CO</th>\n",
       "      <th>O3</th>\n",
       "      <th>temp</th>\n",
       "      <th>pressure</th>\n",
       "      <th>dew_point_temp</th>\n",
       "      <th>rain</th>\n",
       "      <th>wind_direction</th>\n",
       "      <th>wind_speed</th>\n",
       "      <th>station</th>\n",
       "    </tr>\n",
       "  </thead>\n",
       "  <tbody>\n",
       "    <tr>\n",
       "      <th>0</th>\n",
       "      <td>2013</td>\n",
       "      <td>Mar</td>\n",
       "      <td>1</td>\n",
       "      <td>0</td>\n",
       "      <td>4.0</td>\n",
       "      <td>4.0</td>\n",
       "      <td>4.0</td>\n",
       "      <td>7.0</td>\n",
       "      <td>300.0</td>\n",
       "      <td>77.0</td>\n",
       "      <td>-0.7</td>\n",
       "      <td>1023.0</td>\n",
       "      <td>-18.8</td>\n",
       "      <td>0.0</td>\n",
       "      <td>NNW</td>\n",
       "      <td>4.4</td>\n",
       "      <td>Aotizhongxin</td>\n",
       "    </tr>\n",
       "    <tr>\n",
       "      <th>1</th>\n",
       "      <td>2013</td>\n",
       "      <td>Mar</td>\n",
       "      <td>1</td>\n",
       "      <td>1</td>\n",
       "      <td>8.0</td>\n",
       "      <td>8.0</td>\n",
       "      <td>4.0</td>\n",
       "      <td>7.0</td>\n",
       "      <td>300.0</td>\n",
       "      <td>77.0</td>\n",
       "      <td>-1.1</td>\n",
       "      <td>1023.2</td>\n",
       "      <td>-18.2</td>\n",
       "      <td>0.0</td>\n",
       "      <td>N</td>\n",
       "      <td>4.7</td>\n",
       "      <td>Aotizhongxin</td>\n",
       "    </tr>\n",
       "    <tr>\n",
       "      <th>2</th>\n",
       "      <td>2013</td>\n",
       "      <td>Mar</td>\n",
       "      <td>1</td>\n",
       "      <td>2</td>\n",
       "      <td>7.0</td>\n",
       "      <td>7.0</td>\n",
       "      <td>5.0</td>\n",
       "      <td>10.0</td>\n",
       "      <td>300.0</td>\n",
       "      <td>73.0</td>\n",
       "      <td>-1.1</td>\n",
       "      <td>1023.5</td>\n",
       "      <td>-18.2</td>\n",
       "      <td>0.0</td>\n",
       "      <td>NNW</td>\n",
       "      <td>5.6</td>\n",
       "      <td>Aotizhongxin</td>\n",
       "    </tr>\n",
       "    <tr>\n",
       "      <th>3</th>\n",
       "      <td>2013</td>\n",
       "      <td>Mar</td>\n",
       "      <td>1</td>\n",
       "      <td>3</td>\n",
       "      <td>6.0</td>\n",
       "      <td>6.0</td>\n",
       "      <td>11.0</td>\n",
       "      <td>11.0</td>\n",
       "      <td>300.0</td>\n",
       "      <td>72.0</td>\n",
       "      <td>-1.4</td>\n",
       "      <td>1024.5</td>\n",
       "      <td>-19.4</td>\n",
       "      <td>0.0</td>\n",
       "      <td>NW</td>\n",
       "      <td>3.1</td>\n",
       "      <td>Aotizhongxin</td>\n",
       "    </tr>\n",
       "    <tr>\n",
       "      <th>4</th>\n",
       "      <td>2013</td>\n",
       "      <td>Mar</td>\n",
       "      <td>1</td>\n",
       "      <td>4</td>\n",
       "      <td>3.0</td>\n",
       "      <td>3.0</td>\n",
       "      <td>12.0</td>\n",
       "      <td>12.0</td>\n",
       "      <td>300.0</td>\n",
       "      <td>72.0</td>\n",
       "      <td>-2.0</td>\n",
       "      <td>1025.2</td>\n",
       "      <td>-19.5</td>\n",
       "      <td>0.0</td>\n",
       "      <td>N</td>\n",
       "      <td>2.0</td>\n",
       "      <td>Aotizhongxin</td>\n",
       "    </tr>\n",
       "  </tbody>\n",
       "</table>\n",
       "</div>"
      ],
      "text/plain": [
       "   year month  day  hour  PM2.5  PM10   SO2   NO2     CO    O3   temp  \\\n",
       "0  2013   Mar    1     0    4.0   4.0   4.0   7.0  300.0  77.0   -0.7   \n",
       "1  2013   Mar    1     1    8.0   8.0   4.0   7.0  300.0  77.0   -1.1   \n",
       "2  2013   Mar    1     2    7.0   7.0   5.0  10.0  300.0  73.0   -1.1   \n",
       "3  2013   Mar    1     3    6.0   6.0  11.0  11.0  300.0  72.0   -1.4   \n",
       "4  2013   Mar    1     4    3.0   3.0  12.0  12.0  300.0  72.0   -2.0   \n",
       "\n",
       "   pressure  dew_point_temp  rain wind_direction  wind_speed       station  \n",
       "0    1023.0           -18.8   0.0            NNW         4.4  Aotizhongxin  \n",
       "1    1023.2           -18.2   0.0              N         4.7  Aotizhongxin  \n",
       "2    1023.5           -18.2   0.0            NNW         5.6  Aotizhongxin  \n",
       "3    1024.5           -19.4   0.0             NW         3.1  Aotizhongxin  \n",
       "4    1025.2           -19.5   0.0              N         2.0  Aotizhongxin  "
      ]
     },
     "execution_count": 49,
     "metadata": {},
     "output_type": "execute_result"
    }
   ],
   "source": [
    "df_2013.head()"
   ]
  },
  {
   "cell_type": "code",
   "execution_count": 50,
   "metadata": {},
   "outputs": [
    {
     "data": {
      "text/plain": [
       "<matplotlib.axes._subplots.AxesSubplot at 0x1f14666b508>"
      ]
     },
     "execution_count": 50,
     "metadata": {},
     "output_type": "execute_result"
    },
    {
     "data": {
      "image/png": "[encoded data removed]",
      "text/plain": [
       "<Figure size 1080x360 with 1 Axes>"
      ]
     },
     "metadata": {},
     "output_type": "display_data"
    }
   ],
   "source": [
    "df = df_2013[['PM2.5','hour','station']].groupby([\"hour\"]).mean().reset_index().sort_values(by='hour',ascending=False)\n",
    "f,ax=plt.subplots(figsize=(15,5))\n",
    "sns.pointplot(x='hour', y='PM2.5', data=df)"
   ]
  },
  {
   "cell_type": "markdown",
   "metadata": {},
   "source": [
    "2013- we can interpret from point plot for the 2013 hourly that mean value for PM2.5 was highest or peak  21 pm and lowest for 6 am. \n",
    "normal trend followed by PM2.5 is that its value started increasing from 7 am to till 22 pm night and then we can see decrease level from 22 pm to till morning 6 am.\n"
   ]
  },
  {
   "cell_type": "markdown",
   "metadata": {},
   "source": [
    "# * FOR GRADING Q.2 CONSIDER b,c,d and for Q.3 a,c."
   ]
  },
  {
   "cell_type": "code",
   "execution_count": null,
   "metadata": {},
   "outputs": [],
   "source": []
  }
 ],
 "metadata": {
  "kernelspec": {
   "display_name": "Python 3",
   "language": "python",
   "name": "python3"
  },
  "language_info": {
   "codemirror_mode": {
    "name": "ipython",
    "version": 3
   },
   "file_extension": ".py",
   "mimetype": "text/x-python",
   "name": "python",
   "nbconvert_exporter": "python",
   "pygments_lexer": "ipython3",
   "version": "3.7.6"
  }
 },
 "nbformat": 4,
 "nbformat_minor": 4
}
